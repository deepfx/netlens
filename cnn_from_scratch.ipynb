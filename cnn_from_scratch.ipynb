{
 "cells": [
  {
   "cell_type": "code",
   "execution_count": 1,
   "metadata": {},
   "outputs": [],
   "source": [
    "import torch\n",
    "import numpy as np"
   ]
  },
  {
   "cell_type": "code",
   "execution_count": null,
   "metadata": {},
   "outputs": [],
   "source": [
    "\n",
    "class Net:\n",
    "    __init__(self): \n",
    "    __call__(self, X):\n",
    "    \n",
    "    @property\n",
    "    def layers: [\n",
    "        \n",
    "    ]\n",
    "    #self.layers = NN.sequential \\ [] \n",
    "    def fwd(self, X):\n",
    "        #[ l1, l1, l1]--> visualize\n",
    "        for layer in self.layers:\n",
    "            X = layer.forward(X)\n",
    "        return X\n",
    "    def bwd(self):\n",
    "    \n",
    "    \n",
    "class Optim:\n",
    "\n",
    "    \n",
    "class Layer\n",
    "class Conv2D(Layer):\n",
    "    #kernels\n",
    "    #kernel activation\n",
    "    #summary of inp / outp\n",
    "    #stats -> visualize Grid\n",
    "class Linear(Layer):\n",
    "    #cache history of forward / backward\n",
    "    "
   ]
  }
 ],
 "metadata": {
  "kernelspec": {
   "display_name": "Python 3",
   "language": "python",
   "name": "python3"
  },
  "language_info": {
   "codemirror_mode": {
    "name": "ipython",
    "version": 3
   },
   "file_extension": ".py",
   "mimetype": "text/x-python",
   "name": "python",
   "nbconvert_exporter": "python",
   "pygments_lexer": "ipython3",
   "version": "3.7.4"
  }
 },
 "nbformat": 4,
 "nbformat_minor": 2
}
