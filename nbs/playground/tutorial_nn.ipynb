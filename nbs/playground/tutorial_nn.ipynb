{
 "cells": [
  {
   "cell_type": "code",
   "execution_count": 9,
   "metadata": {},
   "outputs": [],
   "source": [
    "import gzip\n",
    "import pickle\n",
    "from pathlib import Path\n",
    "from typing import Tuple, Callable, Optional\n",
    "\n",
    "import numpy as np\n",
    "import requests\n",
    "import torch\n",
    "import torch.nn.functional as F\n",
    "from matplotlib import pyplot\n",
    "from torch import Tensor, nn, optim\n",
    "from torch.optim.optimizer import Optimizer\n",
    "from torch.utils.data import TensorDataset, DataLoader\n",
    "\n",
    "DATA_PATH = Path(\"data\")\n",
    "PATH = DATA_PATH / \"mnist\"\n",
    "\n",
    "URL = \"http://deeplearning.net/data/mnist/\"\n",
    "FILENAME = \"mnist.pkl.gz\"\n",
    "\n",
    "\n",
    "def download_data() -> Tuple[Tensor, ...]:\n",
    "    PATH.mkdir(parents=True, exist_ok=True)\n",
    "    if not (PATH / FILENAME).exists():\n",
    "        content = requests.get(URL + FILENAME).content\n",
    "        (PATH / FILENAME).open(\"wb\").write(content)\n",
    "    with gzip.open((PATH / FILENAME).as_posix(), \"rb\") as f:\n",
    "        ((x_train, y_train), (x_valid, y_valid), _) = pickle.load(f, encoding=\"latin-1\")\n",
    "        print(x_train, y_train)\n",
    "        print(x_train.shape)\n",
    "        print(y_train.min(), y_train.max())\n",
    "        return tuple(map(torch.tensor, (x_train, y_train, x_valid, y_valid)))\n",
    "\n",
    "\n",
    "def show_data_example(x_train: Tensor) -> None:\n",
    "    pyplot.imshow(x_train[0].reshape((28, 28)), cmap=\"gray\")\n",
    "    pyplot.show()\n",
    "    print(x_train.shape)\n",
    "\n",
    "\n",
    "class Mnist_CNN(nn.Module):\n",
    "    def __init__(self):\n",
    "        super().__init__()\n",
    "        self.conv1 = nn.Conv2d(1, 16, kernel_size=3, stride=2, padding=1)\n",
    "        self.conv2 = nn.Conv2d(16, 16, kernel_size=3, stride=2, padding=1)\n",
    "        self.conv3 = nn.Conv2d(16, 10, kernel_size=3, stride=2, padding=1)\n",
    "\n",
    "    def forward(self, xb):\n",
    "        xb = xb.view(-1, 1, 28, 28)\n",
    "        xb = F.relu(self.conv1(xb))\n",
    "        xb = F.relu(self.conv2(xb))\n",
    "        xb = F.relu(self.conv3(xb))\n",
    "        xb = F.avg_pool2d(xb, 4)\n",
    "        return xb.view(-1, xb.size(1))\n",
    "\n",
    "\n",
    "def get_data(train_ds: TensorDataset, valid_ds: TensorDataset, bs: int):\n",
    "    return (\n",
    "        DataLoader(train_ds, batch_size=bs, shuffle=True),\n",
    "        DataLoader(valid_ds, batch_size=bs * 2),\n",
    "    )\n",
    "\n",
    "\n",
    "def loss_batch(model: nn.Module, loss_func: Callable, xb: Tensor, yb: Tensor, opt: Optional[Optimizer] = None):\n",
    "    loss = loss_func(model(xb), yb)\n",
    "\n",
    "    if opt is not None:\n",
    "        loss.backward()\n",
    "        opt.step()\n",
    "        opt.zero_grad()\n",
    "\n",
    "    return loss.item(), len(xb)\n",
    "\n",
    "\n",
    "def fit(epochs: int, model: nn.Module, loss_func: Callable, opt: Optimizer, train_dl: DataLoader, valid_dl: DataLoader):\n",
    "    for epoch in range(epochs):\n",
    "        model.train()\n",
    "        for xb, yb in train_dl:\n",
    "            loss_batch(model, loss_func, xb, yb, opt)\n",
    "\n",
    "        model.eval()\n",
    "        with torch.no_grad():\n",
    "            losses, nums = zip(\n",
    "                *[loss_batch(model, loss_func, xb, yb) for xb, yb in valid_dl]\n",
    "            )\n",
    "        val_loss = np.sum(np.multiply(losses, nums)) / np.sum(nums)\n",
    "\n",
    "        print(epoch, val_loss)\n",
    "\n",
    "\n",
    "def main(epochs=5):\n",
    "    x_train, y_train, x_valid, y_valid = download_data()\n",
    "    show_data_example(x_train)\n",
    "\n",
    "    train_ds = TensorDataset(x_train, y_train)\n",
    "    valid_ds = TensorDataset(x_valid, y_valid)\n",
    "\n",
    "    bs = 64\n",
    "    train_dl, valid_dl = get_data(train_ds, valid_ds, bs)\n",
    "\n",
    "    lr = 0.1\n",
    "    model = Mnist_CNN()\n",
    "    opt = optim.SGD(model.parameters(), lr=lr, momentum=0.9)\n",
    "    loss_func = F.cross_entropy\n",
    "\n",
    "    fit(epochs, model, loss_func, opt, train_dl, valid_dl)\n",
    "    return model\n",
    "\n",
    "if __name__ == '__main__':\n",
    "    True"
   ]
  },
  {
   "cell_type": "code",
   "execution_count": 10,
   "metadata": {},
   "outputs": [
    {
     "name": "stdout",
     "output_type": "stream",
     "text": [
      "[[0. 0. 0. ... 0. 0. 0.]\n",
      " [0. 0. 0. ... 0. 0. 0.]\n",
      " [0. 0. 0. ... 0. 0. 0.]\n",
      " ...\n",
      " [0. 0. 0. ... 0. 0. 0.]\n",
      " [0. 0. 0. ... 0. 0. 0.]\n",
      " [0. 0. 0. ... 0. 0. 0.]] [5 0 4 ... 8 4 8]\n",
      "(50000, 784)\n",
      "0 9\n"
     ]
    },
    {
     "data": {
      "image/png": "[encoded data removed]",
      "text/plain": [
       "<Figure size 432x288 with 1 Axes>"
      ]
     },
     "metadata": {
      "needs_background": "light"
     },
     "output_type": "display_data"
    },
    {
     "name": "stdout",
     "output_type": "stream",
     "text": [
      "torch.Size([50000, 784])\n",
      "0 0.3216199948787689\n",
      "1 0.2210088433623314\n",
      "2 0.19706316496133805\n",
      "3 0.159561971950531\n",
      "4 0.16511170368790626\n"
     ]
    }
   ],
   "source": [
    "modl = main()"
   ]
  },
  {
   "cell_type": "code",
   "execution_count": 11,
   "metadata": {},
   "outputs": [
    {
     "data": {
      "text/plain": [
       "Mnist_CNN(\n",
       "  (conv1): Conv2d(1, 16, kernel_size=(3, 3), stride=(2, 2), padding=(1, 1))\n",
       "  (conv2): Conv2d(16, 16, kernel_size=(3, 3), stride=(2, 2), padding=(1, 1))\n",
       "  (conv3): Conv2d(16, 10, kernel_size=(3, 3), stride=(2, 2), padding=(1, 1))\n",
       ")"
      ]
     },
     "execution_count": 11,
     "metadata": {},
     "output_type": "execute_result"
    }
   ],
   "source": [
    "modl"
   ]
  },
  {
   "cell_type": "code",
   "execution_count": null,
   "metadata": {},
   "outputs": [],
   "source": []
  }
 ],
 "metadata": {
  "kernelspec": {
   "display_name": "Python 3",
   "language": "python",
   "name": "python3"
  },
  "language_info": {
   "codemirror_mode": {
    "name": "ipython",
    "version": 3
   },
   "file_extension": ".py",
   "mimetype": "text/x-python",
   "name": "python",
   "nbconvert_exporter": "python",
   "pygments_lexer": "ipython3",
   "version": "3.7.4"
  }
 },
 "nbformat": 4,
 "nbformat_minor": 2
}
