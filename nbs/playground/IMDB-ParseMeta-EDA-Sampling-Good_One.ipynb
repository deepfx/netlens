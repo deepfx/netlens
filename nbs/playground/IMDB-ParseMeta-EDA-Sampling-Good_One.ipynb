{
 "cells": [
  {
   "cell_type": "code",
   "execution_count": 1,
   "metadata": {},
   "outputs": [],
   "source": [
    "import fastai\n",
    "from fastai.vision import *\n",
    "import scipy.io\n",
    "from torchvision import models\n",
    "from visualization.modules import LayeredModule, get_nested_layers\n",
    "from visualization.data import *\n",
    "from visualization.image_proc import *\n",
    "from visualization.interpret import NetLens"
   ]
  },
  {
   "cell_type": "markdown",
   "metadata": {},
   "source": [
    "# IMDB Dataset \n",
    "### 1) Parse MetaData from Matlab file\n",
    "### 2) Explore Data and choose a random Sample\n",
    "### 3) Train a Regression model on \"Age\""
   ]
  },
  {
   "cell_type": "code",
   "execution_count": 2,
   "metadata": {},
   "outputs": [],
   "source": [
    "import os\n",
    "import numpy as np\n",
    "import scipy.io as sio\n",
    "import datetime \n",
    "import matplotlib.pyplot as plt\n",
    "from dateutil.relativedelta import relativedelta"
   ]
  },
  {
   "cell_type": "markdown",
   "metadata": {},
   "source": [
    "### 1) Parse Metadata"
   ]
  },
  {
   "cell_type": "code",
   "execution_count": 3,
   "metadata": {},
   "outputs": [],
   "source": [
    "path_to_meta = \"/home/jupyter/imdb-face-data/imdb_crop/\"\n",
    "matlab_file = 'imdb.mat'"
   ]
  },
  {
   "cell_type": "code",
   "execution_count": 4,
   "metadata": {},
   "outputs": [],
   "source": [
    "imdb_meta = sio.loadmat(os.path.join(path_to_meta, matlab_file))\n",
    "imdb = imdb_meta['imdb']"
   ]
  },
  {
   "cell_type": "markdown",
   "metadata": {},
   "source": [
    "### Utility Function"
   ]
  },
  {
   "cell_type": "code",
   "execution_count": 5,
   "metadata": {},
   "outputs": [],
   "source": [
    "def reformat_date(mat_date):\n",
    "    \"\"\" Extract only the year.\n",
    "        Necessary for calculating the age of the individual in the image.\n",
    "    Args:\n",
    "        mat_date - raw date format.\n",
    "    Retrurns:\n",
    "        dt - adjusted date.\n",
    "    \"\"\"\n",
    "    # Take account for difference in convention between matlab and python.\n",
    "    dt = datetime.date.fromordinal(np.max([mat_date - 366, 1])).year\n",
    "    return dt\n",
    "\n",
    "def matlab_to_numpy(path_to_meta, matlab_file, path_to_images):\n",
    "    \"\"\" Opens .mat file and reformats.\n",
    "        Matlab struct format to dictionary of numpy arrays.\n",
    "    Args:\n",
    "        path_to_meta - path to dir with matlab meta file.\n",
    "        matlab_file - matlab file\n",
    "        path_to_images - incomplete paths to images.\n",
    "    Returns:\n",
    "        imdb_dict - dict of numpy arrays.\n",
    "    \"\"\"\n",
    "    mat_struct = sio.loadmat(os.path.join(path_to_meta, matlab_file))\n",
    "    data_set = [data[0] for data in mat_struct['imdb'][0, 0]]\n",
    "\n",
    "    keys = [\n",
    "        'dob',\n",
    "        'photo_taken',\n",
    "        'full_path',\n",
    "        'gender',\n",
    "        'name',\n",
    "        'face_location',\n",
    "        'face_score',\n",
    "        'second_face_score',\n",
    "        'celeb_names',\n",
    "        'celeb_id'\n",
    "    ]\n",
    "\n",
    "    create_path = lambda path: os.path.join(path_to_images, path[0])\n",
    "\n",
    "    imdb_dict = dict(zip(keys, np.asarray(data_set)))\n",
    "    imdb_dict['dob'] = [reformat_date(dob) for dob in imdb_dict['dob']]\n",
    "    imdb_dict['full_path'] = [create_path(path) for path in imdb_dict['full_path']]\n",
    "\n",
    "    # Add 'age' key to the dictionary\n",
    "    imdb_dict['age'] = imdb_dict['photo_taken'] - imdb_dict['dob']\n",
    "\n",
    "    return imdb_dict"
   ]
  },
  {
   "cell_type": "code",
   "execution_count": 6,
   "metadata": {},
   "outputs": [],
   "source": [
    "imdb_dict = matlab_to_numpy(path_to_meta, matlab_file, path_to_meta)"
   ]
  },
  {
   "cell_type": "markdown",
   "metadata": {},
   "source": [
    "### DataFrame Constructor"
   ]
  },
  {
   "cell_type": "code",
   "execution_count": 7,
   "metadata": {},
   "outputs": [],
   "source": [
    "imdb_df = pd.DataFrame.from_dict(imdb_dict, orient='index').T"
   ]
  },
  {
   "cell_type": "code",
   "execution_count": 8,
   "metadata": {},
   "outputs": [
    {
     "data": {
      "text/html": [
       "<div>\n",
       "<style scoped>\n",
       "    .dataframe tbody tr th:only-of-type {\n",
       "        vertical-align: middle;\n",
       "    }\n",
       "\n",
       "    .dataframe tbody tr th {\n",
       "        vertical-align: top;\n",
       "    }\n",
       "\n",
       "    .dataframe thead th {\n",
       "        text-align: right;\n",
       "    }\n",
       "</style>\n",
       "<table border=\"1\" class=\"dataframe\">\n",
       "  <thead>\n",
       "    <tr style=\"text-align: right;\">\n",
       "      <th></th>\n",
       "      <th>dob</th>\n",
       "      <th>photo_taken</th>\n",
       "      <th>full_path</th>\n",
       "      <th>gender</th>\n",
       "      <th>name</th>\n",
       "      <th>face_location</th>\n",
       "      <th>face_score</th>\n",
       "      <th>second_face_score</th>\n",
       "      <th>celeb_names</th>\n",
       "      <th>celeb_id</th>\n",
       "      <th>age</th>\n",
       "    </tr>\n",
       "  </thead>\n",
       "  <tbody>\n",
       "    <tr>\n",
       "      <th>0</th>\n",
       "      <td>1899</td>\n",
       "      <td>1968</td>\n",
       "      <td>/home/jupyter/imdb-face-data/imdb_crop/01/nm00...</td>\n",
       "      <td>1</td>\n",
       "      <td>[Fred Astaire]</td>\n",
       "      <td>[[1072.926, 161.838, 1214.7839999999999, 303.6...</td>\n",
       "      <td>1.45969</td>\n",
       "      <td>1.11897</td>\n",
       "      <td>['Lee' George Quinones]</td>\n",
       "      <td>6488</td>\n",
       "      <td>69</td>\n",
       "    </tr>\n",
       "    <tr>\n",
       "      <th>1</th>\n",
       "      <td>1899</td>\n",
       "      <td>1970</td>\n",
       "      <td>/home/jupyter/imdb-face-data/imdb_crop/01/nm00...</td>\n",
       "      <td>1</td>\n",
       "      <td>[Fred Astaire]</td>\n",
       "      <td>[[477.184, 100.352, 622.592, 245.76]]</td>\n",
       "      <td>2.5432</td>\n",
       "      <td>1.85201</td>\n",
       "      <td>['Weird Al' Yankovic]</td>\n",
       "      <td>6488</td>\n",
       "      <td>71</td>\n",
       "    </tr>\n",
       "    <tr>\n",
       "      <th>2</th>\n",
       "      <td>1899</td>\n",
       "      <td>1968</td>\n",
       "      <td>/home/jupyter/imdb-face-data/imdb_crop/01/nm00...</td>\n",
       "      <td>1</td>\n",
       "      <td>[Fred Astaire]</td>\n",
       "      <td>[[114.96964308962852, 114.96964308962852, 451....</td>\n",
       "      <td>3.45558</td>\n",
       "      <td>2.98566</td>\n",
       "      <td>[2 Chainz]</td>\n",
       "      <td>6488</td>\n",
       "      <td>69</td>\n",
       "    </tr>\n",
       "    <tr>\n",
       "      <th>3</th>\n",
       "      <td>1899</td>\n",
       "      <td>1968</td>\n",
       "      <td>/home/jupyter/imdb-face-data/imdb_crop/01/nm00...</td>\n",
       "      <td>1</td>\n",
       "      <td>[Fred Astaire]</td>\n",
       "      <td>[[622.8855056426588, 424.21750383700805, 844.3...</td>\n",
       "      <td>1.87212</td>\n",
       "      <td>NaN</td>\n",
       "      <td>[50 Cent]</td>\n",
       "      <td>6488</td>\n",
       "      <td>69</td>\n",
       "    </tr>\n",
       "    <tr>\n",
       "      <th>4</th>\n",
       "      <td>1899</td>\n",
       "      <td>1968</td>\n",
       "      <td>/home/jupyter/imdb-face-data/imdb_crop/01/nm00...</td>\n",
       "      <td>1</td>\n",
       "      <td>[Fred Astaire]</td>\n",
       "      <td>[[1013.8590023603723, 233.8820422075853, 1201....</td>\n",
       "      <td>1.15877</td>\n",
       "      <td>NaN</td>\n",
       "      <td>[A Martinez]</td>\n",
       "      <td>6488</td>\n",
       "      <td>69</td>\n",
       "    </tr>\n",
       "  </tbody>\n",
       "</table>\n",
       "</div>"
      ],
      "text/plain": [
       "    dob photo_taken                                          full_path gender  \\\n",
       "0  1899        1968  /home/jupyter/imdb-face-data/imdb_crop/01/nm00...      1   \n",
       "1  1899        1970  /home/jupyter/imdb-face-data/imdb_crop/01/nm00...      1   \n",
       "2  1899        1968  /home/jupyter/imdb-face-data/imdb_crop/01/nm00...      1   \n",
       "3  1899        1968  /home/jupyter/imdb-face-data/imdb_crop/01/nm00...      1   \n",
       "4  1899        1968  /home/jupyter/imdb-face-data/imdb_crop/01/nm00...      1   \n",
       "\n",
       "             name                                      face_location  \\\n",
       "0  [Fred Astaire]  [[1072.926, 161.838, 1214.7839999999999, 303.6...   \n",
       "1  [Fred Astaire]              [[477.184, 100.352, 622.592, 245.76]]   \n",
       "2  [Fred Astaire]  [[114.96964308962852, 114.96964308962852, 451....   \n",
       "3  [Fred Astaire]  [[622.8855056426588, 424.21750383700805, 844.3...   \n",
       "4  [Fred Astaire]  [[1013.8590023603723, 233.8820422075853, 1201....   \n",
       "\n",
       "  face_score second_face_score              celeb_names celeb_id age  \n",
       "0    1.45969           1.11897  ['Lee' George Quinones]     6488  69  \n",
       "1     2.5432           1.85201    ['Weird Al' Yankovic]     6488  71  \n",
       "2    3.45558           2.98566               [2 Chainz]     6488  69  \n",
       "3    1.87212               NaN                [50 Cent]     6488  69  \n",
       "4    1.15877               NaN             [A Martinez]     6488  69  "
      ]
     },
     "execution_count": 8,
     "metadata": {},
     "output_type": "execute_result"
    }
   ],
   "source": [
    "imdb_df.head()"
   ]
  },
  {
   "cell_type": "code",
   "execution_count": 9,
   "metadata": {},
   "outputs": [],
   "source": [
    "imdb_df['name'] = imdb_df['name'].apply(lambda x: \" \".join(x))"
   ]
  },
  {
   "cell_type": "code",
   "execution_count": 10,
   "metadata": {},
   "outputs": [],
   "source": [
    "imdb_df.drop(['face_location', 'face_score','second_face_score','celeb_names','celeb_id'], axis=1,inplace=True)"
   ]
  },
  {
   "cell_type": "code",
   "execution_count": 11,
   "metadata": {},
   "outputs": [
    {
     "data": {
      "text/html": [
       "<div>\n",
       "<style scoped>\n",
       "    .dataframe tbody tr th:only-of-type {\n",
       "        vertical-align: middle;\n",
       "    }\n",
       "\n",
       "    .dataframe tbody tr th {\n",
       "        vertical-align: top;\n",
       "    }\n",
       "\n",
       "    .dataframe thead th {\n",
       "        text-align: right;\n",
       "    }\n",
       "</style>\n",
       "<table border=\"1\" class=\"dataframe\">\n",
       "  <thead>\n",
       "    <tr style=\"text-align: right;\">\n",
       "      <th></th>\n",
       "      <th>dob</th>\n",
       "      <th>photo_taken</th>\n",
       "      <th>full_path</th>\n",
       "      <th>gender</th>\n",
       "      <th>name</th>\n",
       "      <th>age</th>\n",
       "    </tr>\n",
       "  </thead>\n",
       "  <tbody>\n",
       "    <tr>\n",
       "      <th>0</th>\n",
       "      <td>1899</td>\n",
       "      <td>1968</td>\n",
       "      <td>/home/jupyter/imdb-face-data/imdb_crop/01/nm00...</td>\n",
       "      <td>1</td>\n",
       "      <td>Fred Astaire</td>\n",
       "      <td>69</td>\n",
       "    </tr>\n",
       "    <tr>\n",
       "      <th>1</th>\n",
       "      <td>1899</td>\n",
       "      <td>1970</td>\n",
       "      <td>/home/jupyter/imdb-face-data/imdb_crop/01/nm00...</td>\n",
       "      <td>1</td>\n",
       "      <td>Fred Astaire</td>\n",
       "      <td>71</td>\n",
       "    </tr>\n",
       "    <tr>\n",
       "      <th>2</th>\n",
       "      <td>1899</td>\n",
       "      <td>1968</td>\n",
       "      <td>/home/jupyter/imdb-face-data/imdb_crop/01/nm00...</td>\n",
       "      <td>1</td>\n",
       "      <td>Fred Astaire</td>\n",
       "      <td>69</td>\n",
       "    </tr>\n",
       "    <tr>\n",
       "      <th>3</th>\n",
       "      <td>1899</td>\n",
       "      <td>1968</td>\n",
       "      <td>/home/jupyter/imdb-face-data/imdb_crop/01/nm00...</td>\n",
       "      <td>1</td>\n",
       "      <td>Fred Astaire</td>\n",
       "      <td>69</td>\n",
       "    </tr>\n",
       "    <tr>\n",
       "      <th>4</th>\n",
       "      <td>1899</td>\n",
       "      <td>1968</td>\n",
       "      <td>/home/jupyter/imdb-face-data/imdb_crop/01/nm00...</td>\n",
       "      <td>1</td>\n",
       "      <td>Fred Astaire</td>\n",
       "      <td>69</td>\n",
       "    </tr>\n",
       "  </tbody>\n",
       "</table>\n",
       "</div>"
      ],
      "text/plain": [
       "    dob photo_taken                                          full_path gender  \\\n",
       "0  1899        1968  /home/jupyter/imdb-face-data/imdb_crop/01/nm00...      1   \n",
       "1  1899        1970  /home/jupyter/imdb-face-data/imdb_crop/01/nm00...      1   \n",
       "2  1899        1968  /home/jupyter/imdb-face-data/imdb_crop/01/nm00...      1   \n",
       "3  1899        1968  /home/jupyter/imdb-face-data/imdb_crop/01/nm00...      1   \n",
       "4  1899        1968  /home/jupyter/imdb-face-data/imdb_crop/01/nm00...      1   \n",
       "\n",
       "           name age  \n",
       "0  Fred Astaire  69  \n",
       "1  Fred Astaire  71  \n",
       "2  Fred Astaire  69  \n",
       "3  Fred Astaire  69  \n",
       "4  Fred Astaire  69  "
      ]
     },
     "execution_count": 11,
     "metadata": {},
     "output_type": "execute_result"
    }
   ],
   "source": [
    "imdb_df.head()"
   ]
  },
  {
   "cell_type": "code",
   "execution_count": 12,
   "metadata": {},
   "outputs": [
    {
     "data": {
      "text/plain": [
       "dob              int64\n",
       "photo_taken      int64\n",
       "full_path       object\n",
       "gender         float64\n",
       "name            object\n",
       "age              int64\n",
       "dtype: object"
      ]
     },
     "execution_count": 12,
     "metadata": {},
     "output_type": "execute_result"
    }
   ],
   "source": [
    "imdb_df = imdb_df.infer_objects()\n",
    "imdb_df.dtypes"
   ]
  },
  {
   "cell_type": "markdown",
   "metadata": {},
   "source": [
    "##### Number of images"
   ]
  },
  {
   "cell_type": "code",
   "execution_count": 13,
   "metadata": {},
   "outputs": [
    {
     "data": {
      "text/plain": [
       "460723"
      ]
     },
     "execution_count": 13,
     "metadata": {},
     "output_type": "execute_result"
    }
   ],
   "source": [
    "len(imdb_df)"
   ]
  },
  {
   "cell_type": "markdown",
   "metadata": {},
   "source": [
    "##### Number of Unique Celebrities in our dataset:"
   ]
  },
  {
   "cell_type": "code",
   "execution_count": 14,
   "metadata": {},
   "outputs": [
    {
     "data": {
      "text/plain": [
       "20284"
      ]
     },
     "execution_count": 14,
     "metadata": {},
     "output_type": "execute_result"
    }
   ],
   "source": [
    "imdb_df['name'].nunique()"
   ]
  },
  {
   "cell_type": "markdown",
   "metadata": {},
   "source": [
    "## Check that Metadata Image Paths is same as Images paths"
   ]
  },
  {
   "cell_type": "code",
   "execution_count": 15,
   "metadata": {},
   "outputs": [],
   "source": [
    "path_to_meta = Path(\"/home/jupyter/imdb-face-data/imdb_crop/\")"
   ]
  },
  {
   "cell_type": "code",
   "execution_count": 16,
   "metadata": {},
   "outputs": [],
   "source": [
    "path_to_folders = [p for p in path_to_meta.iterdir() if p.is_dir()]\n",
    "path_to_images = [i for p in sorted(path_to_folders) for i in sorted(p.iterdir())]"
   ]
  },
  {
   "cell_type": "code",
   "execution_count": 17,
   "metadata": {},
   "outputs": [],
   "source": [
    "imdb_full_path = [i for i in sorted(imdb_df[\"full_path\"])]"
   ]
  },
  {
   "cell_type": "code",
   "execution_count": 18,
   "metadata": {},
   "outputs": [],
   "source": [
    "path_to_images = [str(i) for i in path_to_images]"
   ]
  },
  {
   "cell_type": "code",
   "execution_count": 19,
   "metadata": {},
   "outputs": [
    {
     "data": {
      "text/plain": [
       "True"
      ]
     },
     "execution_count": 19,
     "metadata": {},
     "output_type": "execute_result"
    }
   ],
   "source": [
    "imdb_full_path[0] == path_to_images[0]"
   ]
  },
  {
   "cell_type": "code",
   "execution_count": 20,
   "metadata": {},
   "outputs": [
    {
     "data": {
      "text/plain": [
       "True"
      ]
     },
     "execution_count": 20,
     "metadata": {},
     "output_type": "execute_result"
    }
   ],
   "source": [
    "set(imdb_full_path) == set(path_to_images)"
   ]
  },
  {
   "cell_type": "markdown",
   "metadata": {},
   "source": [
    "__AWESOME__"
   ]
  },
  {
   "cell_type": "markdown",
   "metadata": {},
   "source": [
    "### Get Image sizes and Mode (Color Space)"
   ]
  },
  {
   "cell_type": "code",
   "execution_count": 21,
   "metadata": {},
   "outputs": [],
   "source": [
    "def get_img_size_from_file(imgfile):\n",
    "    try:\n",
    "        with PIL.Image.open(imgfile) as img:\n",
    "            return img.size\n",
    "    except:\n",
    "        print(\"ERROR opening image: \" + str(imgfile))\n",
    "        return -1, -1\n",
    "\n",
    "def get_img_mode_from_file(imgfile):\n",
    "    try:\n",
    "        with PIL.Image.open(imgfile) as img:\n",
    "            return img.mode\n",
    "    except:\n",
    "        print(\"ERROR opening image: \" + str(imgfile))\n",
    "        return -1, -1"
   ]
  },
  {
   "cell_type": "code",
   "execution_count": 22,
   "metadata": {},
   "outputs": [],
   "source": [
    "imdb_df['size_W_H'] = imdb_df[\"full_path\"].apply(lambda x: get_img_size_from_file(x))"
   ]
  },
  {
   "cell_type": "code",
   "execution_count": 23,
   "metadata": {},
   "outputs": [],
   "source": [
    "imdb_df['mode'] = imdb_df[\"full_path\"].apply(lambda x: get_img_mode_from_file(x))"
   ]
  },
  {
   "cell_type": "code",
   "execution_count": 24,
   "metadata": {
    "scrolled": true
   },
   "outputs": [
    {
     "data": {
      "text/html": [
       "<div>\n",
       "<style scoped>\n",
       "    .dataframe tbody tr th:only-of-type {\n",
       "        vertical-align: middle;\n",
       "    }\n",
       "\n",
       "    .dataframe tbody tr th {\n",
       "        vertical-align: top;\n",
       "    }\n",
       "\n",
       "    .dataframe thead th {\n",
       "        text-align: right;\n",
       "    }\n",
       "</style>\n",
       "<table border=\"1\" class=\"dataframe\">\n",
       "  <thead>\n",
       "    <tr style=\"text-align: right;\">\n",
       "      <th></th>\n",
       "      <th>dob</th>\n",
       "      <th>photo_taken</th>\n",
       "      <th>full_path</th>\n",
       "      <th>gender</th>\n",
       "      <th>name</th>\n",
       "      <th>age</th>\n",
       "      <th>size_W_H</th>\n",
       "      <th>mode</th>\n",
       "    </tr>\n",
       "  </thead>\n",
       "  <tbody>\n",
       "    <tr>\n",
       "      <th>0</th>\n",
       "      <td>1899</td>\n",
       "      <td>1968</td>\n",
       "      <td>/home/jupyter/imdb-face-data/imdb_crop/01/nm00...</td>\n",
       "      <td>1.0</td>\n",
       "      <td>Fred Astaire</td>\n",
       "      <td>69</td>\n",
       "      <td>(257, 257)</td>\n",
       "      <td>RGB</td>\n",
       "    </tr>\n",
       "    <tr>\n",
       "      <th>1</th>\n",
       "      <td>1899</td>\n",
       "      <td>1970</td>\n",
       "      <td>/home/jupyter/imdb-face-data/imdb_crop/01/nm00...</td>\n",
       "      <td>1.0</td>\n",
       "      <td>Fred Astaire</td>\n",
       "      <td>71</td>\n",
       "      <td>(263, 263)</td>\n",
       "      <td>RGB</td>\n",
       "    </tr>\n",
       "    <tr>\n",
       "      <th>2</th>\n",
       "      <td>1899</td>\n",
       "      <td>1968</td>\n",
       "      <td>/home/jupyter/imdb-face-data/imdb_crop/01/nm00...</td>\n",
       "      <td>1.0</td>\n",
       "      <td>Fred Astaire</td>\n",
       "      <td>69</td>\n",
       "      <td>(500, 500)</td>\n",
       "      <td>RGB</td>\n",
       "    </tr>\n",
       "    <tr>\n",
       "      <th>3</th>\n",
       "      <td>1899</td>\n",
       "      <td>1968</td>\n",
       "      <td>/home/jupyter/imdb-face-data/imdb_crop/01/nm00...</td>\n",
       "      <td>1.0</td>\n",
       "      <td>Fred Astaire</td>\n",
       "      <td>69</td>\n",
       "      <td>(400, 401)</td>\n",
       "      <td>RGB</td>\n",
       "    </tr>\n",
       "    <tr>\n",
       "      <th>4</th>\n",
       "      <td>1899</td>\n",
       "      <td>1968</td>\n",
       "      <td>/home/jupyter/imdb-face-data/imdb_crop/01/nm00...</td>\n",
       "      <td>1.0</td>\n",
       "      <td>Fred Astaire</td>\n",
       "      <td>69</td>\n",
       "      <td>(340, 340)</td>\n",
       "      <td>RGB</td>\n",
       "    </tr>\n",
       "  </tbody>\n",
       "</table>\n",
       "</div>"
      ],
      "text/plain": [
       "    dob  photo_taken                                          full_path  \\\n",
       "0  1899         1968  /home/jupyter/imdb-face-data/imdb_crop/01/nm00...   \n",
       "1  1899         1970  /home/jupyter/imdb-face-data/imdb_crop/01/nm00...   \n",
       "2  1899         1968  /home/jupyter/imdb-face-data/imdb_crop/01/nm00...   \n",
       "3  1899         1968  /home/jupyter/imdb-face-data/imdb_crop/01/nm00...   \n",
       "4  1899         1968  /home/jupyter/imdb-face-data/imdb_crop/01/nm00...   \n",
       "\n",
       "   gender          name  age    size_W_H mode  \n",
       "0     1.0  Fred Astaire   69  (257, 257)  RGB  \n",
       "1     1.0  Fred Astaire   71  (263, 263)  RGB  \n",
       "2     1.0  Fred Astaire   69  (500, 500)  RGB  \n",
       "3     1.0  Fred Astaire   69  (400, 401)  RGB  \n",
       "4     1.0  Fred Astaire   69  (340, 340)  RGB  "
      ]
     },
     "execution_count": 24,
     "metadata": {},
     "output_type": "execute_result"
    }
   ],
   "source": [
    "imdb_df.head()"
   ]
  },
  {
   "cell_type": "markdown",
   "metadata": {},
   "source": [
    "### Let's Save original dataframe to csv file (outside of the Github repository)"
   ]
  },
  {
   "cell_type": "code",
   "execution_count": 25,
   "metadata": {},
   "outputs": [],
   "source": [
    "output_path = '/home/jupyter/imdb-face-data/imdb_crop/imdb-original.csv'"
   ]
  },
  {
   "cell_type": "code",
   "execution_count": 26,
   "metadata": {},
   "outputs": [],
   "source": [
    "imdb_df.to_csv(output_path, index=False, encoding='utf-8')"
   ]
  },
  {
   "cell_type": "code",
   "execution_count": 27,
   "metadata": {},
   "outputs": [],
   "source": [
    "del imdb_df"
   ]
  },
  {
   "cell_type": "code",
   "execution_count": 28,
   "metadata": {},
   "outputs": [],
   "source": [
    "imdb_df = pd.read_csv(output_path)"
   ]
  },
  {
   "cell_type": "markdown",
   "metadata": {},
   "source": [
    "## 2) Quick Exploratory Data Analysis"
   ]
  },
  {
   "cell_type": "markdown",
   "metadata": {},
   "source": [
    "### Distribution of Image Modes"
   ]
  },
  {
   "cell_type": "code",
   "execution_count": 29,
   "metadata": {},
   "outputs": [
    {
     "data": {
      "text/plain": [
       "RGB    438191\n",
       "L       22532\n",
       "Name: mode, dtype: int64"
      ]
     },
     "execution_count": 29,
     "metadata": {},
     "output_type": "execute_result"
    }
   ],
   "source": [
    "imdb_df['mode'].value_counts(dropna=False)"
   ]
  },
  {
   "cell_type": "markdown",
   "metadata": {},
   "source": [
    "__We have 22532 grayscale images in our dataset__\n",
    "__When sampling we will get ridd of those ones__"
   ]
  },
  {
   "cell_type": "markdown",
   "metadata": {},
   "source": [
    "### Distribution of Genders"
   ]
  },
  {
   "cell_type": "code",
   "execution_count": 30,
   "metadata": {},
   "outputs": [
    {
     "data": {
      "text/plain": [
       "1.0    263214\n",
       "0.0    189047\n",
       "NaN      8462\n",
       "Name: gender, dtype: int64"
      ]
     },
     "execution_count": 30,
     "metadata": {},
     "output_type": "execute_result"
    }
   ],
   "source": [
    "imdb_df['gender'].value_counts(dropna=False)"
   ]
  },
  {
   "cell_type": "markdown",
   "metadata": {},
   "source": [
    "#### Let's get rid off those rows with NaN Values"
   ]
  },
  {
   "cell_type": "code",
   "execution_count": 31,
   "metadata": {},
   "outputs": [
    {
     "data": {
      "text/plain": [
       "1.0    263214\n",
       "0.0    189047\n",
       "Name: gender, dtype: int64"
      ]
     },
     "execution_count": 31,
     "metadata": {},
     "output_type": "execute_result"
    }
   ],
   "source": [
    "imdb_df = imdb_df.dropna(subset=['gender'])\n",
    "imdb_df['gender'].value_counts(dropna=False)"
   ]
  },
  {
   "cell_type": "code",
   "execution_count": 32,
   "metadata": {},
   "outputs": [
    {
     "name": "stdout",
     "output_type": "stream",
     "text": [
      "452261\n"
     ]
    },
    {
     "data": {
      "text/plain": [
       "1.0    58.199579\n",
       "0.0    41.800421\n",
       "Name: gender, dtype: float64"
      ]
     },
     "execution_count": 32,
     "metadata": {},
     "output_type": "execute_result"
    }
   ],
   "source": [
    "print(len(imdb_df))\n",
    "imdb_df['gender'].value_counts(normalize=True)*100"
   ]
  },
  {
   "cell_type": "markdown",
   "metadata": {},
   "source": [
    "__60% of Males and 40% of Females in original dataset__\n",
    "\n",
    "__When Sampling, we will perform stratified sampling to get 50% of Male and 50% of Female__"
   ]
  },
  {
   "cell_type": "markdown",
   "metadata": {},
   "source": [
    "### Distribution of image sizes"
   ]
  },
  {
   "cell_type": "code",
   "execution_count": 33,
   "metadata": {},
   "outputs": [
    {
     "data": {
      "text/plain": [
       "(500, 500)    78812\n",
       "(334, 500)    13726\n",
       "(333, 500)    11574\n",
       "(130, 130)     6634\n",
       "(303, 303)     5691\n",
       "(501, 501)     5434\n",
       "(325, 325)     4715\n",
       "(264, 264)     4691\n",
       "(111, 111)     4432\n",
       "(263, 264)     4264\n",
       "Name: size_W_H, dtype: int64"
      ]
     },
     "execution_count": 33,
     "metadata": {},
     "output_type": "execute_result"
    }
   ],
   "source": [
    "imdb_df['size_W_H'].value_counts(ascending=False).head(10)"
   ]
  },
  {
   "cell_type": "markdown",
   "metadata": {},
   "source": [
    "__When sampling, will retain only images that have at least one side equal to 500-501 pxls__"
   ]
  },
  {
   "cell_type": "markdown",
   "metadata": {},
   "source": [
    "### Distribution of Age"
   ]
  },
  {
   "cell_type": "code",
   "execution_count": 34,
   "metadata": {},
   "outputs": [
    {
     "data": {
      "text/plain": [
       "-30        3\n",
       "-24        4\n",
       "-23        1\n",
       "-20        3\n",
       "-19        8\n",
       "-17        4\n",
       "-16        4\n",
       "-15       11\n",
       "-14        8\n",
       "-13       26\n",
       "-12       39\n",
       "-11       41\n",
       "-10       10\n",
       "-9         7\n",
       "-8         6\n",
       "-7        23\n",
       "-6        89\n",
       "-5        14\n",
       "-4         6\n",
       "-3       132\n",
       "-2        22\n",
       "-1        30\n",
       " 0        47\n",
       " 1        65\n",
       " 2       220\n",
       " 3        70\n",
       " 4        58\n",
       " 5       145\n",
       " 6       225\n",
       " 7       281\n",
       "        ... \n",
       " 109       1\n",
       " 113       1\n",
       " 117       2\n",
       " 118       1\n",
       " 119       2\n",
       " 125       3\n",
       " 131       1\n",
       " 134       5\n",
       " 135       1\n",
       " 1980      1\n",
       " 1989      2\n",
       " 1990      6\n",
       " 1992      2\n",
       " 1994      2\n",
       " 1998      1\n",
       " 1999      2\n",
       " 2001      5\n",
       " 2002      1\n",
       " 2003      3\n",
       " 2004      9\n",
       " 2005      7\n",
       " 2006      3\n",
       " 2007      1\n",
       " 2008      6\n",
       " 2009     23\n",
       " 2010      9\n",
       " 2011     15\n",
       " 2012     13\n",
       " 2013     16\n",
       " 2014      2\n",
       "Name: age, Length: 157, dtype: int64"
      ]
     },
     "execution_count": 34,
     "metadata": {},
     "output_type": "execute_result"
    }
   ],
   "source": [
    "imdb_df['age'].value_counts().sort_index()"
   ]
  },
  {
   "cell_type": "markdown",
   "metadata": {},
   "source": [
    "__We can see a lot of mislabels (negative ages - ages over 2000 years old..), this is a known issue with this dataset.__\n",
    "\n",
    "When Sampling and for the purpose of our Style Transfer Model, we'll keep only pictures with Age labels between __10 and 90 years old__"
   ]
  },
  {
   "cell_type": "markdown",
   "metadata": {},
   "source": [
    "### Distribution of number of images grouped by celebrities"
   ]
  },
  {
   "cell_type": "code",
   "execution_count": 35,
   "metadata": {},
   "outputs": [
    {
     "data": {
      "text/plain": [
       "Jennifer Aniston       827\n",
       "Brad Pitt              818\n",
       "Angelina Jolie         795\n",
       "Courteney Cox          787\n",
       "Tom Cruise             779\n",
       "Robert Downey Jr.      739\n",
       "Neil Patrick Harris    719\n",
       "Nicole Kidman          719\n",
       "Zooey Deschanel        703\n",
       "Jim Parsons            696\n",
       "Name: name, dtype: int64"
      ]
     },
     "execution_count": 35,
     "metadata": {},
     "output_type": "execute_result"
    }
   ],
   "source": [
    "imdb_df['name'].value_counts().head(10)"
   ]
  },
  {
   "cell_type": "code",
   "execution_count": 36,
   "metadata": {},
   "outputs": [
    {
     "data": {
      "text/plain": [
       "Jamison Haase          1\n",
       "Rocsi Diaz             1\n",
       "Donatella Versace      1\n",
       "David Doremus          1\n",
       "Taylor Gildersleeve    1\n",
       "Warren Berlinger       1\n",
       "Brad Hallowell         1\n",
       "Jay Pickett            1\n",
       "Rebecca Forsythe       1\n",
       "Pat Carroll            1\n",
       "Name: name, dtype: int64"
      ]
     },
     "execution_count": 36,
     "metadata": {},
     "output_type": "execute_result"
    }
   ],
   "source": [
    "imdb_df['name'].value_counts(ascending=True).head(10)"
   ]
  },
  {
   "cell_type": "markdown",
   "metadata": {},
   "source": [
    "__We can see that some celebrities are over-represented.__\n",
    "\n",
    "__For the purpose of our Style Transfer Model, we will take a sample of the Data where we retain only 1 to 5 images per person, so our Model learn from a diverse type of faces.__ "
   ]
  },
  {
   "cell_type": "markdown",
   "metadata": {},
   "source": [
    "## 2) Let's create our Sample\n",
    "\n",
    "Taking into consideration our experiments for effective style transfer, we will take a sample of the IMDB dataset.\n",
    "The Sample will follow the following conditions:\n",
    "\n",
    "- 0) FILTER BY IMAGE MODE (Only keep images in RGB colors)\n",
    "- 1) FILTER BY IMAGES SIZES (Keep only images where at least one side is of size 500 pixels)\n",
    "- 2) FILTER BY AGE (Retain only pictures where celebrities have between 10 and 90 Years old)\n",
    "- 3) FILTER FOR DIVERSITY (Keep 1 to 5 pictures per celebrity, and keep only pictures that are taken in different years)\n",
    "- 4) PERFORM STRATIFIED SAMPLING (GET 50% of MALE AND 50% OF FEMALE)"
   ]
  },
  {
   "cell_type": "markdown",
   "metadata": {},
   "source": [
    "##### 0) FILTER BY IMAGES MODES"
   ]
  },
  {
   "cell_type": "code",
   "execution_count": 37,
   "metadata": {},
   "outputs": [],
   "source": [
    "imdb_df = imdb_df[imdb_df['mode'] == 'RGB']"
   ]
  },
  {
   "cell_type": "code",
   "execution_count": 38,
   "metadata": {},
   "outputs": [
    {
     "data": {
      "text/plain": [
       "RGB    430018\n",
       "Name: mode, dtype: int64"
      ]
     },
     "execution_count": 38,
     "metadata": {},
     "output_type": "execute_result"
    }
   ],
   "source": [
    "imdb_df['mode'].value_counts(dropna=False)"
   ]
  },
  {
   "cell_type": "markdown",
   "metadata": {},
   "source": [
    "##### 1) FILTER BY IMAGES SIZES"
   ]
  },
  {
   "cell_type": "code",
   "execution_count": 39,
   "metadata": {},
   "outputs": [],
   "source": [
    "imdb_df_500 = imdb_df[(imdb_df['size_W_H'] == '(500, 500)') |\n",
    "                      (imdb_df['size_W_H'] == '(334, 500)') |\n",
    "                      (imdb_df['size_W_H'] == '(501, 501)') |\n",
    "                      (imdb_df['size_W_H'] == '(333, 500)')]"
   ]
  },
  {
   "cell_type": "code",
   "execution_count": 40,
   "metadata": {},
   "outputs": [
    {
     "data": {
      "text/plain": [
       "100185"
      ]
     },
     "execution_count": 40,
     "metadata": {},
     "output_type": "execute_result"
    }
   ],
   "source": [
    "len(imdb_df_500)"
   ]
  },
  {
   "cell_type": "markdown",
   "metadata": {},
   "source": [
    "##### 2) FILTER BY AGE"
   ]
  },
  {
   "cell_type": "code",
   "execution_count": 41,
   "metadata": {},
   "outputs": [
    {
     "data": {
      "text/plain": [
       "99359"
      ]
     },
     "execution_count": 41,
     "metadata": {},
     "output_type": "execute_result"
    }
   ],
   "source": [
    "imdb_df_500_age = imdb_df_500[(imdb_df_500['age'] >= 10) & (imdb_df_500['age']<= 90)]\n",
    "len(imdb_df_500_age)"
   ]
  },
  {
   "cell_type": "markdown",
   "metadata": {},
   "source": [
    "__After filtering our dataset by image sizes and ages, we reduced it to ~ 100.000 images__\n",
    "\n",
    "__Next, let's filter for diversity__"
   ]
  },
  {
   "cell_type": "markdown",
   "metadata": {},
   "source": [
    "##### 3) FILTER FOR DIVERSITY"
   ]
  },
  {
   "cell_type": "code",
   "execution_count": 42,
   "metadata": {},
   "outputs": [
    {
     "data": {
      "text/plain": [
       "11390"
      ]
     },
     "execution_count": 42,
     "metadata": {},
     "output_type": "execute_result"
    }
   ],
   "source": [
    "imdb_df_500_age['name'].nunique()"
   ]
  },
  {
   "cell_type": "code",
   "execution_count": 43,
   "metadata": {},
   "outputs": [],
   "source": [
    "imdb_df_500_age_five = imdb_df_500_age.drop_duplicates(['photo_taken','name']).groupby('name').head(5)"
   ]
  },
  {
   "cell_type": "code",
   "execution_count": 44,
   "metadata": {},
   "outputs": [
    {
     "data": {
      "text/plain": [
       "24394"
      ]
     },
     "execution_count": 44,
     "metadata": {},
     "output_type": "execute_result"
    }
   ],
   "source": [
    "len(imdb_df_500_age_five)"
   ]
  },
  {
   "cell_type": "code",
   "execution_count": 45,
   "metadata": {},
   "outputs": [
    {
     "data": {
      "text/plain": [
       "11390"
      ]
     },
     "execution_count": 45,
     "metadata": {},
     "output_type": "execute_result"
    }
   ],
   "source": [
    "imdb_df_500_age_five['name'].nunique()"
   ]
  },
  {
   "cell_type": "markdown",
   "metadata": {},
   "source": [
    "__We end up with 11390 distinct celebrities, GREAT!__"
   ]
  },
  {
   "cell_type": "code",
   "execution_count": 46,
   "metadata": {},
   "outputs": [
    {
     "data": {
      "text/plain": [
       "1.0    14776\n",
       "0.0     9618\n",
       "Name: gender, dtype: int64"
      ]
     },
     "execution_count": 46,
     "metadata": {},
     "output_type": "execute_result"
    }
   ],
   "source": [
    "imdb_df_500_age_five['gender'].value_counts(dropna=False)"
   ]
  },
  {
   "cell_type": "markdown",
   "metadata": {},
   "source": [
    "__After filtering for diversity we reduced our dataset to 27.787 images__"
   ]
  },
  {
   "cell_type": "markdown",
   "metadata": {},
   "source": [
    "##### 4) PERFORM STRATIFIED SAMPLING"
   ]
  },
  {
   "cell_type": "code",
   "execution_count": 47,
   "metadata": {},
   "outputs": [],
   "source": [
    "def stratified_sample_df(df, col, n_samples):\n",
    "    n = min(n_samples, df[col].value_counts().min())\n",
    "    df_ = df.groupby(col).apply(lambda x: x.sample(n, random_state=2))\n",
    "    df_.index = df_.index.droplevel(0)\n",
    "    return df_"
   ]
  },
  {
   "cell_type": "code",
   "execution_count": 48,
   "metadata": {},
   "outputs": [],
   "source": [
    "imdb_df_500_age_five_strat = stratified_sample_df(imdb_df_500_age_five, 'gender', 10000)"
   ]
  },
  {
   "cell_type": "code",
   "execution_count": 49,
   "metadata": {},
   "outputs": [
    {
     "name": "stdout",
     "output_type": "stream",
     "text": [
      "19236\n"
     ]
    },
    {
     "data": {
      "text/plain": [
       "1.0    50.0\n",
       "0.0    50.0\n",
       "Name: gender, dtype: float64"
      ]
     },
     "execution_count": 49,
     "metadata": {},
     "output_type": "execute_result"
    }
   ],
   "source": [
    "print(len(imdb_df_500_age_five_strat))\n",
    "imdb_df_500_age_five_strat['gender'].value_counts(normalize=True)*100"
   ]
  },
  {
   "cell_type": "markdown",
   "metadata": {},
   "source": [
    "__Our final sample contains 19236 images, this is largely enough for training.__\n",
    "\n",
    "### Let's Save this final DataFrame to a CSV File"
   ]
  },
  {
   "cell_type": "code",
   "execution_count": 50,
   "metadata": {},
   "outputs": [],
   "source": [
    "sample_output_path = '/home/jupyter/imdb-face-data/imdb_crop/meta-imdb-sample.csv'\n",
    "\n",
    "imdb_df_500_age_five_strat.to_csv(sample_output_path, index=False, encoding='utf-8')"
   ]
  },
  {
   "cell_type": "code",
   "execution_count": 51,
   "metadata": {},
   "outputs": [],
   "source": [
    "del imdb_df_500_age_five_strat"
   ]
  },
  {
   "cell_type": "code",
   "execution_count": 52,
   "metadata": {},
   "outputs": [],
   "source": [
    "sample_df = pd.read_csv(sample_output_path)"
   ]
  },
  {
   "cell_type": "markdown",
   "metadata": {},
   "source": [
    "### Distribution of Ages of our sample"
   ]
  },
  {
   "cell_type": "code",
   "execution_count": 53,
   "metadata": {},
   "outputs": [
    {
     "data": {
      "text/plain": [
       "array([[<matplotlib.axes._subplots.AxesSubplot object at 0x7f4f500425c0>]], dtype=object)"
      ]
     },
     "execution_count": 53,
     "metadata": {},
     "output_type": "execute_result"
    },
    {
     "data": {
      "image/png": "[encoded data removed]",
      "text/plain": [
       "<Figure size 432x288 with 1 Axes>"
      ]
     },
     "metadata": {
      "needs_background": "light"
     },
     "output_type": "display_data"
    }
   ],
   "source": [
    "sample_df.hist(column=['age'], bins=8)"
   ]
  },
  {
   "cell_type": "markdown",
   "metadata": {},
   "source": [
    "### Distribution of Gender"
   ]
  },
  {
   "cell_type": "code",
   "execution_count": 54,
   "metadata": {},
   "outputs": [
    {
     "data": {
      "text/plain": [
       "array([[<matplotlib.axes._subplots.AxesSubplot object at 0x7f4f5002e400>]], dtype=object)"
      ]
     },
     "execution_count": 54,
     "metadata": {},
     "output_type": "execute_result"
    },
    {
     "data": {
      "image/png": "[encoded data removed]",
      "text/plain": [
       "<Figure size 432x288 with 1 Axes>"
      ]
     },
     "metadata": {
      "needs_background": "light"
     },
     "output_type": "display_data"
    }
   ],
   "source": [
    "sample_df.hist(column=['gender'], bins=3)"
   ]
  },
  {
   "cell_type": "markdown",
   "metadata": {},
   "source": [
    "## Add Parent Paths and Image paths to the Dataframe"
   ]
  },
  {
   "cell_type": "code",
   "execution_count": 55,
   "metadata": {},
   "outputs": [],
   "source": [
    "DATA_PATH = Path(\"/home/jupyter/imdb-face-data\")\n",
    "DATASET_PATH = DATA_PATH / \"imdb_crop\""
   ]
  },
  {
   "cell_type": "code",
   "execution_count": 56,
   "metadata": {},
   "outputs": [
    {
     "data": {
      "text/html": [
       "<div>\n",
       "<style scoped>\n",
       "    .dataframe tbody tr th:only-of-type {\n",
       "        vertical-align: middle;\n",
       "    }\n",
       "\n",
       "    .dataframe tbody tr th {\n",
       "        vertical-align: top;\n",
       "    }\n",
       "\n",
       "    .dataframe thead th {\n",
       "        text-align: right;\n",
       "    }\n",
       "</style>\n",
       "<table border=\"1\" class=\"dataframe\">\n",
       "  <thead>\n",
       "    <tr style=\"text-align: right;\">\n",
       "      <th></th>\n",
       "      <th>dob</th>\n",
       "      <th>photo_taken</th>\n",
       "      <th>full_path</th>\n",
       "      <th>gender</th>\n",
       "      <th>name</th>\n",
       "      <th>age</th>\n",
       "      <th>size_W_H</th>\n",
       "      <th>mode</th>\n",
       "    </tr>\n",
       "  </thead>\n",
       "  <tbody>\n",
       "    <tr>\n",
       "      <th>0</th>\n",
       "      <td>1984</td>\n",
       "      <td>2011</td>\n",
       "      <td>/home/jupyter/imdb-face-data/imdb_crop/40/nm22...</td>\n",
       "      <td>0.0</td>\n",
       "      <td>Taylor Schilling</td>\n",
       "      <td>27</td>\n",
       "      <td>(500, 500)</td>\n",
       "      <td>RGB</td>\n",
       "    </tr>\n",
       "    <tr>\n",
       "      <th>1</th>\n",
       "      <td>1950</td>\n",
       "      <td>1983</td>\n",
       "      <td>/home/jupyter/imdb-face-data/imdb_crop/54/nm05...</td>\n",
       "      <td>0.0</td>\n",
       "      <td>Ofelia Medina</td>\n",
       "      <td>33</td>\n",
       "      <td>(500, 500)</td>\n",
       "      <td>RGB</td>\n",
       "    </tr>\n",
       "    <tr>\n",
       "      <th>2</th>\n",
       "      <td>1948</td>\n",
       "      <td>2013</td>\n",
       "      <td>/home/jupyter/imdb-face-data/imdb_crop/47/nm00...</td>\n",
       "      <td>0.0</td>\n",
       "      <td>Barbara Hershey</td>\n",
       "      <td>65</td>\n",
       "      <td>(500, 500)</td>\n",
       "      <td>RGB</td>\n",
       "    </tr>\n",
       "    <tr>\n",
       "      <th>3</th>\n",
       "      <td>1982</td>\n",
       "      <td>2013</td>\n",
       "      <td>/home/jupyter/imdb-face-data/imdb_crop/96/nm23...</td>\n",
       "      <td>0.0</td>\n",
       "      <td>Fala Chen</td>\n",
       "      <td>31</td>\n",
       "      <td>(500, 500)</td>\n",
       "      <td>RGB</td>\n",
       "    </tr>\n",
       "    <tr>\n",
       "      <th>4</th>\n",
       "      <td>1970</td>\n",
       "      <td>2013</td>\n",
       "      <td>/home/jupyter/imdb-face-data/imdb_crop/96/nm11...</td>\n",
       "      <td>0.0</td>\n",
       "      <td>Alysia Reiner</td>\n",
       "      <td>43</td>\n",
       "      <td>(500, 500)</td>\n",
       "      <td>RGB</td>\n",
       "    </tr>\n",
       "  </tbody>\n",
       "</table>\n",
       "</div>"
      ],
      "text/plain": [
       "    dob  photo_taken                                          full_path  \\\n",
       "0  1984         2011  /home/jupyter/imdb-face-data/imdb_crop/40/nm22...   \n",
       "1  1950         1983  /home/jupyter/imdb-face-data/imdb_crop/54/nm05...   \n",
       "2  1948         2013  /home/jupyter/imdb-face-data/imdb_crop/47/nm00...   \n",
       "3  1982         2013  /home/jupyter/imdb-face-data/imdb_crop/96/nm23...   \n",
       "4  1970         2013  /home/jupyter/imdb-face-data/imdb_crop/96/nm11...   \n",
       "\n",
       "   gender              name  age    size_W_H mode  \n",
       "0     0.0  Taylor Schilling   27  (500, 500)  RGB  \n",
       "1     0.0     Ofelia Medina   33  (500, 500)  RGB  \n",
       "2     0.0   Barbara Hershey   65  (500, 500)  RGB  \n",
       "3     0.0         Fala Chen   31  (500, 500)  RGB  \n",
       "4     0.0     Alysia Reiner   43  (500, 500)  RGB  "
      ]
     },
     "execution_count": 56,
     "metadata": {},
     "output_type": "execute_result"
    }
   ],
   "source": [
    "sample_df.head()"
   ]
  },
  {
   "cell_type": "code",
   "execution_count": 57,
   "metadata": {},
   "outputs": [],
   "source": [
    "sample_df['full_path'] = sample_df['full_path'].apply(lambda x: Path(x))\n",
    "sample_df.rename(columns={'full_path' : 'absolute_path'}, inplace=True)\n",
    "sample_df['parent_path'] = sample_df['absolute_path'].apply(lambda x: x.relative_to(DATASET_PATH))\n",
    "sample_df['img_path'] = sample_df['absolute_path'].apply(lambda x: x.relative_to(x.parent))"
   ]
  },
  {
   "cell_type": "code",
   "execution_count": 58,
   "metadata": {},
   "outputs": [
    {
     "data": {
      "text/html": [
       "<div>\n",
       "<style scoped>\n",
       "    .dataframe tbody tr th:only-of-type {\n",
       "        vertical-align: middle;\n",
       "    }\n",
       "\n",
       "    .dataframe tbody tr th {\n",
       "        vertical-align: top;\n",
       "    }\n",
       "\n",
       "    .dataframe thead th {\n",
       "        text-align: right;\n",
       "    }\n",
       "</style>\n",
       "<table border=\"1\" class=\"dataframe\">\n",
       "  <thead>\n",
       "    <tr style=\"text-align: right;\">\n",
       "      <th></th>\n",
       "      <th>dob</th>\n",
       "      <th>photo_taken</th>\n",
       "      <th>absolute_path</th>\n",
       "      <th>gender</th>\n",
       "      <th>name</th>\n",
       "      <th>age</th>\n",
       "      <th>size_W_H</th>\n",
       "      <th>mode</th>\n",
       "      <th>parent_path</th>\n",
       "      <th>img_path</th>\n",
       "    </tr>\n",
       "  </thead>\n",
       "  <tbody>\n",
       "    <tr>\n",
       "      <th>0</th>\n",
       "      <td>1984</td>\n",
       "      <td>2011</td>\n",
       "      <td>/home/jupyter/imdb-face-data/imdb_crop/40/nm22...</td>\n",
       "      <td>0.0</td>\n",
       "      <td>Taylor Schilling</td>\n",
       "      <td>27</td>\n",
       "      <td>(500, 500)</td>\n",
       "      <td>RGB</td>\n",
       "      <td>40/nm2279940_rm2559819520_1984-7-27_2011.jpg</td>\n",
       "      <td>nm2279940_rm2559819520_1984-7-27_2011.jpg</td>\n",
       "    </tr>\n",
       "    <tr>\n",
       "      <th>1</th>\n",
       "      <td>1950</td>\n",
       "      <td>1983</td>\n",
       "      <td>/home/jupyter/imdb-face-data/imdb_crop/54/nm05...</td>\n",
       "      <td>0.0</td>\n",
       "      <td>Ofelia Medina</td>\n",
       "      <td>33</td>\n",
       "      <td>(500, 500)</td>\n",
       "      <td>RGB</td>\n",
       "      <td>54/nm0575754_rm2285080064_1950-3-4_1983.jpg</td>\n",
       "      <td>nm0575754_rm2285080064_1950-3-4_1983.jpg</td>\n",
       "    </tr>\n",
       "    <tr>\n",
       "      <th>2</th>\n",
       "      <td>1948</td>\n",
       "      <td>2013</td>\n",
       "      <td>/home/jupyter/imdb-face-data/imdb_crop/47/nm00...</td>\n",
       "      <td>0.0</td>\n",
       "      <td>Barbara Hershey</td>\n",
       "      <td>65</td>\n",
       "      <td>(500, 500)</td>\n",
       "      <td>RGB</td>\n",
       "      <td>47/nm0001347_rm2334775552_1948-2-5_2013.jpg</td>\n",
       "      <td>nm0001347_rm2334775552_1948-2-5_2013.jpg</td>\n",
       "    </tr>\n",
       "    <tr>\n",
       "      <th>3</th>\n",
       "      <td>1982</td>\n",
       "      <td>2013</td>\n",
       "      <td>/home/jupyter/imdb-face-data/imdb_crop/96/nm23...</td>\n",
       "      <td>0.0</td>\n",
       "      <td>Fala Chen</td>\n",
       "      <td>31</td>\n",
       "      <td>(500, 500)</td>\n",
       "      <td>RGB</td>\n",
       "      <td>96/nm2371196_rm1343148800_1982-2-24_2013.jpg</td>\n",
       "      <td>nm2371196_rm1343148800_1982-2-24_2013.jpg</td>\n",
       "    </tr>\n",
       "    <tr>\n",
       "      <th>4</th>\n",
       "      <td>1970</td>\n",
       "      <td>2013</td>\n",
       "      <td>/home/jupyter/imdb-face-data/imdb_crop/96/nm11...</td>\n",
       "      <td>0.0</td>\n",
       "      <td>Alysia Reiner</td>\n",
       "      <td>43</td>\n",
       "      <td>(500, 500)</td>\n",
       "      <td>RGB</td>\n",
       "      <td>96/nm1130496_rm3249586944_1970-7-21_2013.jpg</td>\n",
       "      <td>nm1130496_rm3249586944_1970-7-21_2013.jpg</td>\n",
       "    </tr>\n",
       "  </tbody>\n",
       "</table>\n",
       "</div>"
      ],
      "text/plain": [
       "    dob  photo_taken                                      absolute_path  \\\n",
       "0  1984         2011  /home/jupyter/imdb-face-data/imdb_crop/40/nm22...   \n",
       "1  1950         1983  /home/jupyter/imdb-face-data/imdb_crop/54/nm05...   \n",
       "2  1948         2013  /home/jupyter/imdb-face-data/imdb_crop/47/nm00...   \n",
       "3  1982         2013  /home/jupyter/imdb-face-data/imdb_crop/96/nm23...   \n",
       "4  1970         2013  /home/jupyter/imdb-face-data/imdb_crop/96/nm11...   \n",
       "\n",
       "   gender              name  age    size_W_H mode  \\\n",
       "0     0.0  Taylor Schilling   27  (500, 500)  RGB   \n",
       "1     0.0     Ofelia Medina   33  (500, 500)  RGB   \n",
       "2     0.0   Barbara Hershey   65  (500, 500)  RGB   \n",
       "3     0.0         Fala Chen   31  (500, 500)  RGB   \n",
       "4     0.0     Alysia Reiner   43  (500, 500)  RGB   \n",
       "\n",
       "                                    parent_path  \\\n",
       "0  40/nm2279940_rm2559819520_1984-7-27_2011.jpg   \n",
       "1   54/nm0575754_rm2285080064_1950-3-4_1983.jpg   \n",
       "2   47/nm0001347_rm2334775552_1948-2-5_2013.jpg   \n",
       "3  96/nm2371196_rm1343148800_1982-2-24_2013.jpg   \n",
       "4  96/nm1130496_rm3249586944_1970-7-21_2013.jpg   \n",
       "\n",
       "                                    img_path  \n",
       "0  nm2279940_rm2559819520_1984-7-27_2011.jpg  \n",
       "1   nm0575754_rm2285080064_1950-3-4_1983.jpg  \n",
       "2   nm0001347_rm2334775552_1948-2-5_2013.jpg  \n",
       "3  nm2371196_rm1343148800_1982-2-24_2013.jpg  \n",
       "4  nm1130496_rm3249586944_1970-7-21_2013.jpg  "
      ]
     },
     "execution_count": 58,
     "metadata": {},
     "output_type": "execute_result"
    }
   ],
   "source": [
    "sample_df.head()"
   ]
  },
  {
   "cell_type": "markdown",
   "metadata": {},
   "source": [
    "#### Save the Sample CSV File with those new infos"
   ]
  },
  {
   "cell_type": "code",
   "execution_count": 59,
   "metadata": {},
   "outputs": [],
   "source": [
    "sample_df.to_csv('/home/jupyter/imdb-face-data/imdb_crop/imdb-sample-metafull.csv',index=False, encoding='utf-8')"
   ]
  },
  {
   "cell_type": "markdown",
   "metadata": {},
   "source": [
    "### CREATE A SAMPLE DATA FOLDER (copy images from our sample csv)"
   ]
  },
  {
   "cell_type": "code",
   "execution_count": 60,
   "metadata": {},
   "outputs": [],
   "source": [
    "SAMPLE_DATA_PATH = '/home/jupyter/imdb-face-data/imdb_crop/imdb-sample/imdb-sample-data'"
   ]
  },
  {
   "cell_type": "code",
   "execution_count": 61,
   "metadata": {},
   "outputs": [],
   "source": [
    "import shutil\n",
    "import os.path\n",
    "\n",
    "def create_sample_data_folder(source, dest):\n",
    "    os.mkdir(dest)\n",
    "    for path in source:\n",
    "        try:\n",
    "            shutil.copy2(str(path), dest)\n",
    "        except:\n",
    "            print(path)"
   ]
  },
  {
   "cell_type": "code",
   "execution_count": 62,
   "metadata": {},
   "outputs": [],
   "source": [
    "create_sample_data_folder(sample_df['absolute_path'], SAMPLE_DATA_PATH)"
   ]
  },
  {
   "cell_type": "markdown",
   "metadata": {},
   "source": [
    "### Verify Images in our Sample"
   ]
  },
  {
   "cell_type": "code",
   "execution_count": 63,
   "metadata": {},
   "outputs": [],
   "source": [
    "verify_images(SAMPLE_DATA_PATH)"
   ]
  },
  {
   "cell_type": "code",
   "execution_count": null,
   "metadata": {},
   "outputs": [],
   "source": []
  }
 ],
 "metadata": {
  "kernelspec": {
   "display_name": "Python 3",
   "language": "python",
   "name": "python3"
  },
  "language_info": {
   "codemirror_mode": {
    "name": "ipython",
    "version": 3
   },
   "file_extension": ".py",
   "mimetype": "text/x-python",
   "name": "python",
   "nbconvert_exporter": "python",
   "pygments_lexer": "ipython3",
   "version": "3.7.3"
  }
 },
 "nbformat": 4,
 "nbformat_minor": 2
}
