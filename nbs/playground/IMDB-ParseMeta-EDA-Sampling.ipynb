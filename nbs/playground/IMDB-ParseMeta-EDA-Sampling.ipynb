{
 "cells": [
  {
   "cell_type": "code",
   "execution_count": 1,
   "metadata": {},
   "outputs": [],
   "source": [
    "import fastai\n",
    "from fastai.vision import *\n",
    "import scipy.io\n",
    "from torchvision import models\n",
    "from visualization.modules import LayeredModule, get_nested_layers\n",
    "from visualization.data import *\n",
    "from visualization.image_proc import *\n",
    "from visualization.interpret import NetLens"
   ]
  },
  {
   "cell_type": "markdown",
   "metadata": {},
   "source": [
    "# IMDB Dataset \n",
    "### 1) Parse MetaData from Matlab file\n",
    "### 2) Explore Data and choose a random Sample\n",
    "### 3) Train a Regression model on \"Age\""
   ]
  },
  {
   "cell_type": "code",
   "execution_count": 2,
   "metadata": {},
   "outputs": [],
   "source": [
    "import os\n",
    "import numpy as np\n",
    "import scipy.io as sio\n",
    "import datetime \n",
    "import matplotlib.pyplot as plt\n",
    "from dateutil.relativedelta import relativedelta"
   ]
  },
  {
   "cell_type": "markdown",
   "metadata": {},
   "source": [
    "### 1) Parse Metadata"
   ]
  },
  {
   "cell_type": "code",
   "execution_count": 3,
   "metadata": {},
   "outputs": [],
   "source": [
    "path_to_meta = Path(\"/home/jupyter/imdb-face-data/imdb_crop/\")\n",
    "matlab_file = 'imdb.mat'"
   ]
  },
  {
   "cell_type": "code",
   "execution_count": 4,
   "metadata": {},
   "outputs": [],
   "source": [
    "imdb_meta = sio.loadmat(path_to_meta / matlab_file)\n",
    "imdb = imdb_meta['imdb']"
   ]
  },
  {
   "cell_type": "markdown",
   "metadata": {},
   "source": [
    "### Utility Function"
   ]
  },
  {
   "cell_type": "code",
   "execution_count": 5,
   "metadata": {},
   "outputs": [],
   "source": [
    "def reformat_date(mat_date):\n",
    "    \"\"\" Extract only the year.\n",
    "        Necessary for calculating the age of the individual in the image.\n",
    "    Args:\n",
    "        mat_date - raw date format.\n",
    "    Retrurns:\n",
    "        dt - adjusted date.\n",
    "    \"\"\"\n",
    "    # Take account for difference in convention between matlab and python.\n",
    "    dt = datetime.date.fromordinal(np.max([mat_date - 366, 1])).year\n",
    "    return dt"
   ]
  },
  {
   "cell_type": "code",
   "execution_count": 6,
   "metadata": {},
   "outputs": [],
   "source": [
    "imdb_matlab_dob = imdb[0][0][0][0]\n",
    "imdb_photo_taken = imdb[0][0][1][0]\n",
    "imdb_path = imdb[0][0][2][0]\n",
    "imdb_gender = imdb[0][0][3][0]\n",
    "imdb_name = imdb[0][0][4][0]\n",
    "imdb_full_path = [path_to_meta / path[0] for path in sorted(imdb_path)]\n",
    "imdb_dob = [reformat_date(p) for p in imdb_matlab_dob]\n",
    "imdb_age = [(imdb_photo_taken[n] - imdb_dob[n]) for n in range(len(imdb_dob))]"
   ]
  },
  {
   "cell_type": "markdown",
   "metadata": {},
   "source": [
    "### DataFrame Constructor"
   ]
  },
  {
   "cell_type": "code",
   "execution_count": 7,
   "metadata": {},
   "outputs": [],
   "source": [
    "imdb_df = pd.DataFrame(np.vstack((imdb_full_path,\n",
    "                                  imdb_photo_taken,\n",
    "                                  imdb_name,\n",
    "                                  imdb_dob,\n",
    "                                  imdb_age, \n",
    "                                  imdb_gender\n",
    "                                  )).T)\n",
    "imdb_df.columns = ['img_path', 'photo_taken', 'name', 'date_of_birth', 'age','gender']"
   ]
  },
  {
   "cell_type": "code",
   "execution_count": 8,
   "metadata": {},
   "outputs": [],
   "source": [
    "imdb_df['name'] = imdb_df['name'].apply(lambda x: \" \".join(x))"
   ]
  },
  {
   "cell_type": "code",
   "execution_count": 9,
   "metadata": {},
   "outputs": [
    {
     "data": {
      "text/plain": [
       "img_path          object\n",
       "photo_taken        int64\n",
       "name              object\n",
       "date_of_birth      int64\n",
       "age                int64\n",
       "gender           float64\n",
       "dtype: object"
      ]
     },
     "execution_count": 9,
     "metadata": {},
     "output_type": "execute_result"
    }
   ],
   "source": [
    "imdb_df = imdb_df.infer_objects()\n",
    "imdb_df.dtypes"
   ]
  },
  {
   "cell_type": "code",
   "execution_count": 10,
   "metadata": {},
   "outputs": [
    {
     "data": {
      "text/html": [
       "<div>\n",
       "<style scoped>\n",
       "    .dataframe tbody tr th:only-of-type {\n",
       "        vertical-align: middle;\n",
       "    }\n",
       "\n",
       "    .dataframe tbody tr th {\n",
       "        vertical-align: top;\n",
       "    }\n",
       "\n",
       "    .dataframe thead th {\n",
       "        text-align: right;\n",
       "    }\n",
       "</style>\n",
       "<table border=\"1\" class=\"dataframe\">\n",
       "  <thead>\n",
       "    <tr style=\"text-align: right;\">\n",
       "      <th></th>\n",
       "      <th>img_path</th>\n",
       "      <th>photo_taken</th>\n",
       "      <th>name</th>\n",
       "      <th>date_of_birth</th>\n",
       "      <th>age</th>\n",
       "      <th>gender</th>\n",
       "    </tr>\n",
       "  </thead>\n",
       "  <tbody>\n",
       "    <tr>\n",
       "      <th>0</th>\n",
       "      <td>/home/jupyter/imdb-face-data/imdb_crop/00/nm00...</td>\n",
       "      <td>1968</td>\n",
       "      <td>Fred Astaire</td>\n",
       "      <td>1899</td>\n",
       "      <td>69</td>\n",
       "      <td>1.0</td>\n",
       "    </tr>\n",
       "    <tr>\n",
       "      <th>1</th>\n",
       "      <td>/home/jupyter/imdb-face-data/imdb_crop/00/nm00...</td>\n",
       "      <td>1970</td>\n",
       "      <td>Fred Astaire</td>\n",
       "      <td>1899</td>\n",
       "      <td>71</td>\n",
       "      <td>1.0</td>\n",
       "    </tr>\n",
       "    <tr>\n",
       "      <th>2</th>\n",
       "      <td>/home/jupyter/imdb-face-data/imdb_crop/00/nm00...</td>\n",
       "      <td>1968</td>\n",
       "      <td>Fred Astaire</td>\n",
       "      <td>1899</td>\n",
       "      <td>69</td>\n",
       "      <td>1.0</td>\n",
       "    </tr>\n",
       "    <tr>\n",
       "      <th>3</th>\n",
       "      <td>/home/jupyter/imdb-face-data/imdb_crop/00/nm00...</td>\n",
       "      <td>1968</td>\n",
       "      <td>Fred Astaire</td>\n",
       "      <td>1899</td>\n",
       "      <td>69</td>\n",
       "      <td>1.0</td>\n",
       "    </tr>\n",
       "    <tr>\n",
       "      <th>4</th>\n",
       "      <td>/home/jupyter/imdb-face-data/imdb_crop/00/nm00...</td>\n",
       "      <td>1968</td>\n",
       "      <td>Fred Astaire</td>\n",
       "      <td>1899</td>\n",
       "      <td>69</td>\n",
       "      <td>1.0</td>\n",
       "    </tr>\n",
       "  </tbody>\n",
       "</table>\n",
       "</div>"
      ],
      "text/plain": [
       "                                            img_path  photo_taken  \\\n",
       "0  /home/jupyter/imdb-face-data/imdb_crop/00/nm00...         1968   \n",
       "1  /home/jupyter/imdb-face-data/imdb_crop/00/nm00...         1970   \n",
       "2  /home/jupyter/imdb-face-data/imdb_crop/00/nm00...         1968   \n",
       "3  /home/jupyter/imdb-face-data/imdb_crop/00/nm00...         1968   \n",
       "4  /home/jupyter/imdb-face-data/imdb_crop/00/nm00...         1968   \n",
       "\n",
       "           name  date_of_birth  age  gender  \n",
       "0  Fred Astaire           1899   69     1.0  \n",
       "1  Fred Astaire           1899   71     1.0  \n",
       "2  Fred Astaire           1899   69     1.0  \n",
       "3  Fred Astaire           1899   69     1.0  \n",
       "4  Fred Astaire           1899   69     1.0  "
      ]
     },
     "execution_count": 10,
     "metadata": {},
     "output_type": "execute_result"
    }
   ],
   "source": [
    "imdb_df.head()"
   ]
  },
  {
   "cell_type": "markdown",
   "metadata": {},
   "source": [
    "##### Number of images"
   ]
  },
  {
   "cell_type": "code",
   "execution_count": 11,
   "metadata": {},
   "outputs": [
    {
     "data": {
      "text/plain": [
       "460723"
      ]
     },
     "execution_count": 11,
     "metadata": {},
     "output_type": "execute_result"
    }
   ],
   "source": [
    "len(imdb_df)"
   ]
  },
  {
   "cell_type": "markdown",
   "metadata": {},
   "source": [
    "##### Number of Unique Celebrities in our dataset:"
   ]
  },
  {
   "cell_type": "code",
   "execution_count": 12,
   "metadata": {},
   "outputs": [
    {
     "data": {
      "text/plain": [
       "20284"
      ]
     },
     "execution_count": 12,
     "metadata": {},
     "output_type": "execute_result"
    }
   ],
   "source": [
    "imdb_df['name'].nunique()"
   ]
  },
  {
   "cell_type": "markdown",
   "metadata": {},
   "source": [
    "## Check that Metadata Image Paths is same as Images paths"
   ]
  },
  {
   "cell_type": "code",
   "execution_count": 13,
   "metadata": {},
   "outputs": [],
   "source": [
    "path_to_folders = [p for p in path_to_meta.iterdir() if p.is_dir()]\n",
    "path_to_images = [i for p in sorted(path_to_folders) for i in sorted(p.iterdir())]"
   ]
  },
  {
   "cell_type": "code",
   "execution_count": 14,
   "metadata": {},
   "outputs": [
    {
     "data": {
      "text/plain": [
       "True"
      ]
     },
     "execution_count": 14,
     "metadata": {},
     "output_type": "execute_result"
    }
   ],
   "source": [
    "imdb_full_path[0] == path_to_images[0]"
   ]
  },
  {
   "cell_type": "code",
   "execution_count": 15,
   "metadata": {},
   "outputs": [
    {
     "data": {
      "text/plain": [
       "True"
      ]
     },
     "execution_count": 15,
     "metadata": {},
     "output_type": "execute_result"
    }
   ],
   "source": [
    "imdb_full_path == path_to_images"
   ]
  },
  {
   "cell_type": "markdown",
   "metadata": {},
   "source": [
    "__AWESOME__"
   ]
  },
  {
   "cell_type": "markdown",
   "metadata": {},
   "source": [
    "### Get Image sizes"
   ]
  },
  {
   "cell_type": "code",
   "execution_count": 16,
   "metadata": {},
   "outputs": [],
   "source": [
    "def get_img_size_from_file(imgfile):\n",
    "    try:\n",
    "        with PIL.Image.open(imgfile) as img:\n",
    "            return img.size\n",
    "    except:\n",
    "        print(\"ERROR opening image: \" + str(imgfile))\n",
    "        return -1, -1"
   ]
  },
  {
   "cell_type": "code",
   "execution_count": 17,
   "metadata": {},
   "outputs": [],
   "source": [
    "imdb_df['size (W,H)'] = imdb_df[\"img_path\"].apply(lambda x: get_img_size_from_file(x))"
   ]
  },
  {
   "cell_type": "code",
   "execution_count": 18,
   "metadata": {
    "scrolled": true
   },
   "outputs": [
    {
     "data": {
      "text/html": [
       "<div>\n",
       "<style scoped>\n",
       "    .dataframe tbody tr th:only-of-type {\n",
       "        vertical-align: middle;\n",
       "    }\n",
       "\n",
       "    .dataframe tbody tr th {\n",
       "        vertical-align: top;\n",
       "    }\n",
       "\n",
       "    .dataframe thead th {\n",
       "        text-align: right;\n",
       "    }\n",
       "</style>\n",
       "<table border=\"1\" class=\"dataframe\">\n",
       "  <thead>\n",
       "    <tr style=\"text-align: right;\">\n",
       "      <th></th>\n",
       "      <th>img_path</th>\n",
       "      <th>photo_taken</th>\n",
       "      <th>name</th>\n",
       "      <th>date_of_birth</th>\n",
       "      <th>age</th>\n",
       "      <th>gender</th>\n",
       "      <th>size (W,H)</th>\n",
       "    </tr>\n",
       "  </thead>\n",
       "  <tbody>\n",
       "    <tr>\n",
       "      <th>0</th>\n",
       "      <td>/home/jupyter/imdb-face-data/imdb_crop/00/nm00...</td>\n",
       "      <td>1968</td>\n",
       "      <td>Fred Astaire</td>\n",
       "      <td>1899</td>\n",
       "      <td>69</td>\n",
       "      <td>1.0</td>\n",
       "      <td>(500, 500)</td>\n",
       "    </tr>\n",
       "    <tr>\n",
       "      <th>1</th>\n",
       "      <td>/home/jupyter/imdb-face-data/imdb_crop/00/nm00...</td>\n",
       "      <td>1970</td>\n",
       "      <td>Fred Astaire</td>\n",
       "      <td>1899</td>\n",
       "      <td>71</td>\n",
       "      <td>1.0</td>\n",
       "      <td>(171, 171)</td>\n",
       "    </tr>\n",
       "    <tr>\n",
       "      <th>2</th>\n",
       "      <td>/home/jupyter/imdb-face-data/imdb_crop/00/nm00...</td>\n",
       "      <td>1968</td>\n",
       "      <td>Fred Astaire</td>\n",
       "      <td>1899</td>\n",
       "      <td>69</td>\n",
       "      <td>1.0</td>\n",
       "      <td>(315, 315)</td>\n",
       "    </tr>\n",
       "    <tr>\n",
       "      <th>3</th>\n",
       "      <td>/home/jupyter/imdb-face-data/imdb_crop/00/nm00...</td>\n",
       "      <td>1968</td>\n",
       "      <td>Fred Astaire</td>\n",
       "      <td>1899</td>\n",
       "      <td>69</td>\n",
       "      <td>1.0</td>\n",
       "      <td>(252, 252)</td>\n",
       "    </tr>\n",
       "    <tr>\n",
       "      <th>4</th>\n",
       "      <td>/home/jupyter/imdb-face-data/imdb_crop/00/nm00...</td>\n",
       "      <td>1968</td>\n",
       "      <td>Fred Astaire</td>\n",
       "      <td>1899</td>\n",
       "      <td>69</td>\n",
       "      <td>1.0</td>\n",
       "      <td>(334, 334)</td>\n",
       "    </tr>\n",
       "  </tbody>\n",
       "</table>\n",
       "</div>"
      ],
      "text/plain": [
       "                                            img_path  photo_taken  \\\n",
       "0  /home/jupyter/imdb-face-data/imdb_crop/00/nm00...         1968   \n",
       "1  /home/jupyter/imdb-face-data/imdb_crop/00/nm00...         1970   \n",
       "2  /home/jupyter/imdb-face-data/imdb_crop/00/nm00...         1968   \n",
       "3  /home/jupyter/imdb-face-data/imdb_crop/00/nm00...         1968   \n",
       "4  /home/jupyter/imdb-face-data/imdb_crop/00/nm00...         1968   \n",
       "\n",
       "           name  date_of_birth  age  gender  size (W,H)  \n",
       "0  Fred Astaire           1899   69     1.0  (500, 500)  \n",
       "1  Fred Astaire           1899   71     1.0  (171, 171)  \n",
       "2  Fred Astaire           1899   69     1.0  (315, 315)  \n",
       "3  Fred Astaire           1899   69     1.0  (252, 252)  \n",
       "4  Fred Astaire           1899   69     1.0  (334, 334)  "
      ]
     },
     "execution_count": 18,
     "metadata": {},
     "output_type": "execute_result"
    }
   ],
   "source": [
    "imdb_df.head()"
   ]
  },
  {
   "cell_type": "markdown",
   "metadata": {},
   "source": [
    "### Let's Save original dataframe to csv file (outside of the Github repository)"
   ]
  },
  {
   "cell_type": "code",
   "execution_count": 3,
   "metadata": {},
   "outputs": [],
   "source": [
    "output_path = '/home/jupyter/imdb-face-data/imdb_crop/imdb-original.csv'"
   ]
  },
  {
   "cell_type": "code",
   "execution_count": 20,
   "metadata": {},
   "outputs": [],
   "source": [
    "imdb_df.to_csv(output_path, index=False, encoding='utf-8')"
   ]
  },
  {
   "cell_type": "code",
   "execution_count": 21,
   "metadata": {},
   "outputs": [],
   "source": [
    "del imdb_df"
   ]
  },
  {
   "cell_type": "code",
   "execution_count": 4,
   "metadata": {},
   "outputs": [],
   "source": [
    "imdb_df = pd.read_csv(output_path)"
   ]
  },
  {
   "cell_type": "markdown",
   "metadata": {},
   "source": [
    "## 2) Quick Exploratory Data Analysis"
   ]
  },
  {
   "cell_type": "markdown",
   "metadata": {},
   "source": [
    "### Distribution of Genders"
   ]
  },
  {
   "cell_type": "code",
   "execution_count": 5,
   "metadata": {},
   "outputs": [
    {
     "data": {
      "text/plain": [
       "1.0    263214\n",
       "0.0    189047\n",
       "NaN      8462\n",
       "Name: gender, dtype: int64"
      ]
     },
     "execution_count": 5,
     "metadata": {},
     "output_type": "execute_result"
    }
   ],
   "source": [
    "imdb_df['gender'].value_counts(dropna=False)"
   ]
  },
  {
   "cell_type": "markdown",
   "metadata": {},
   "source": [
    "#### Let's get rid off those rows with NaN Values"
   ]
  },
  {
   "cell_type": "code",
   "execution_count": 6,
   "metadata": {},
   "outputs": [
    {
     "data": {
      "text/plain": [
       "1.0    263214\n",
       "0.0    189047\n",
       "Name: gender, dtype: int64"
      ]
     },
     "execution_count": 6,
     "metadata": {},
     "output_type": "execute_result"
    }
   ],
   "source": [
    "imdb_df = imdb_df.dropna(subset=['gender'])\n",
    "imdb_df['gender'].value_counts(dropna=False)"
   ]
  },
  {
   "cell_type": "code",
   "execution_count": 7,
   "metadata": {},
   "outputs": [
    {
     "name": "stdout",
     "output_type": "stream",
     "text": [
      "452261\n"
     ]
    },
    {
     "data": {
      "text/plain": [
       "1.0    58.199579\n",
       "0.0    41.800421\n",
       "Name: gender, dtype: float64"
      ]
     },
     "execution_count": 7,
     "metadata": {},
     "output_type": "execute_result"
    }
   ],
   "source": [
    "print(len(imdb_df))\n",
    "imdb_df['gender'].value_counts(normalize=True)*100"
   ]
  },
  {
   "cell_type": "markdown",
   "metadata": {},
   "source": [
    "__60% of Males and 40% of Females in original dataset__\n",
    "\n",
    "__When Sampling, we will perform stratified sampling to get 50% of Male and 50% of Female__"
   ]
  },
  {
   "cell_type": "markdown",
   "metadata": {},
   "source": [
    "### Distribution of image sizes"
   ]
  },
  {
   "cell_type": "code",
   "execution_count": 8,
   "metadata": {},
   "outputs": [
    {
     "data": {
      "text/plain": [
       "(500, 500)    78736\n",
       "(334, 500)    13817\n",
       "(333, 500)    11503\n",
       "(130, 130)     6590\n",
       "(303, 303)     5708\n",
       "(501, 501)     5411\n",
       "(325, 325)     4724\n",
       "(264, 264)     4693\n",
       "(111, 111)     4463\n",
       "(263, 264)     4296\n",
       "Name: size (W,H), dtype: int64"
      ]
     },
     "execution_count": 8,
     "metadata": {},
     "output_type": "execute_result"
    }
   ],
   "source": [
    "imdb_df['size (W,H)'].value_counts(ascending=False).head(10)"
   ]
  },
  {
   "cell_type": "markdown",
   "metadata": {},
   "source": [
    "__When sampling, will retain only images that have at least one side equal to 500-501 pxls__"
   ]
  },
  {
   "cell_type": "markdown",
   "metadata": {},
   "source": [
    "### Distribution of Age"
   ]
  },
  {
   "cell_type": "code",
   "execution_count": 9,
   "metadata": {},
   "outputs": [
    {
     "data": {
      "text/plain": [
       "-30        3\n",
       "-24        4\n",
       "-23        1\n",
       "-20        3\n",
       "-19        8\n",
       "-17        4\n",
       "-16        4\n",
       "-15       11\n",
       "-14        8\n",
       "-13       26\n",
       "-12       39\n",
       "-11       41\n",
       "-10       10\n",
       "-9         7\n",
       "-8         6\n",
       "-7        23\n",
       "-6        89\n",
       "-5        14\n",
       "-4         6\n",
       "-3       132\n",
       "-2        22\n",
       "-1        30\n",
       " 0        47\n",
       " 1        65\n",
       " 2       220\n",
       " 3        70\n",
       " 4        58\n",
       " 5       145\n",
       " 6       225\n",
       " 7       281\n",
       "        ... \n",
       " 109       1\n",
       " 113       1\n",
       " 117       2\n",
       " 118       1\n",
       " 119       2\n",
       " 125       3\n",
       " 131       1\n",
       " 134       5\n",
       " 135       1\n",
       " 1980      1\n",
       " 1989      2\n",
       " 1990      6\n",
       " 1992      2\n",
       " 1994      2\n",
       " 1998      1\n",
       " 1999      2\n",
       " 2001      5\n",
       " 2002      1\n",
       " 2003      3\n",
       " 2004      9\n",
       " 2005      7\n",
       " 2006      3\n",
       " 2007      1\n",
       " 2008      6\n",
       " 2009     23\n",
       " 2010      9\n",
       " 2011     15\n",
       " 2012     13\n",
       " 2013     16\n",
       " 2014      2\n",
       "Name: age, Length: 157, dtype: int64"
      ]
     },
     "execution_count": 9,
     "metadata": {},
     "output_type": "execute_result"
    }
   ],
   "source": [
    "imdb_df['age'].value_counts().sort_index()"
   ]
  },
  {
   "cell_type": "markdown",
   "metadata": {},
   "source": [
    "__We can see a lot of mislabels (negative ages - ages over 2000 years old..), this is a known issue with this dataset.__\n",
    "\n",
    "When Sampling and for the purpose of our Style Transfer Model, we'll keep only pictures with Age labels between __10 and 90 years old__"
   ]
  },
  {
   "cell_type": "markdown",
   "metadata": {},
   "source": [
    "### Distribution of number of images grouped by celebrities"
   ]
  },
  {
   "cell_type": "code",
   "execution_count": 10,
   "metadata": {},
   "outputs": [
    {
     "data": {
      "text/plain": [
       "Jennifer Aniston       827\n",
       "Brad Pitt              818\n",
       "Angelina Jolie         795\n",
       "Courteney Cox          787\n",
       "Tom Cruise             779\n",
       "Robert Downey Jr.      739\n",
       "Nicole Kidman          719\n",
       "Neil Patrick Harris    719\n",
       "Zooey Deschanel        703\n",
       "Jim Parsons            696\n",
       "Name: name, dtype: int64"
      ]
     },
     "execution_count": 10,
     "metadata": {},
     "output_type": "execute_result"
    }
   ],
   "source": [
    "imdb_df['name'].value_counts().head(10)"
   ]
  },
  {
   "cell_type": "code",
   "execution_count": 11,
   "metadata": {},
   "outputs": [
    {
     "data": {
      "text/plain": [
       "Jimmy Tatro            1\n",
       "John Thomson           1\n",
       "Marco St. John         1\n",
       "Robert Richardson      1\n",
       "Eugenia Khirivskaya    1\n",
       "Ted Manson             1\n",
       "Gavin Lee              1\n",
       "Yasmin Mitri           1\n",
       "Antony Sher            1\n",
       "Lucian Msamati         1\n",
       "Name: name, dtype: int64"
      ]
     },
     "execution_count": 11,
     "metadata": {},
     "output_type": "execute_result"
    }
   ],
   "source": [
    "imdb_df['name'].value_counts(ascending=True).head(10)"
   ]
  },
  {
   "cell_type": "markdown",
   "metadata": {},
   "source": [
    "__We can see that some celebrities are over-represented.__\n",
    "\n",
    "__For the purpose of our Style Transfer Model, we will take a sample of the Data where we retain only 1 to 5 images per person, so our Model learn from a diverse type of faces.__ "
   ]
  },
  {
   "cell_type": "markdown",
   "metadata": {},
   "source": [
    "## 2) Let's create our Sample\n",
    "\n",
    "Taking into consideration our experiments for effective style transfer, we will take a sample of the IMDB dataset.\n",
    "The Sample will follow the following conditions:\n",
    "\n",
    "- 1) FILTER BY IMAGES SIZES (Keep only images where at least one side is of size 500 pixels)\n",
    "- 2) FILTER BY AGE (Retain only pictures where celebrities have between 10 and 90 Years old)\n",
    "- 3) FILTER FOR DIVERSITY (Keep 1 to 5 pictures per celebrity, and keep only pictures that are taken in different years)\n",
    "- 4) PERFORM STRATIFIED SAMPLING (GET 50% of MALE AND 50% OF FEMALE)"
   ]
  },
  {
   "cell_type": "markdown",
   "metadata": {},
   "source": [
    "##### 1) FILTER BY IMAGES SIZES"
   ]
  },
  {
   "cell_type": "code",
   "execution_count": 12,
   "metadata": {},
   "outputs": [],
   "source": [
    "imdb_df_500 = imdb_df[(imdb_df['size (W,H)'] == '(500, 500)') |\n",
    "                      (imdb_df['size (W,H)'] == '(334, 500)') |\n",
    "                      (imdb_df['size (W,H)'] == '(501, 501)') |\n",
    "                      (imdb_df['size (W,H)'] == '(333, 500)')]"
   ]
  },
  {
   "cell_type": "code",
   "execution_count": 13,
   "metadata": {},
   "outputs": [
    {
     "data": {
      "text/plain": [
       "109467"
      ]
     },
     "execution_count": 13,
     "metadata": {},
     "output_type": "execute_result"
    }
   ],
   "source": [
    "len(imdb_df_500)"
   ]
  },
  {
   "cell_type": "markdown",
   "metadata": {},
   "source": [
    "##### 2) FILTER BY AGE"
   ]
  },
  {
   "cell_type": "code",
   "execution_count": 14,
   "metadata": {},
   "outputs": [
    {
     "data": {
      "text/plain": [
       "108761"
      ]
     },
     "execution_count": 14,
     "metadata": {},
     "output_type": "execute_result"
    }
   ],
   "source": [
    "imdb_df_500_age = imdb_df_500[(imdb_df_500['age'] >= 10) & (imdb_df_500['age']<= 90)]\n",
    "len(imdb_df_500_age)"
   ]
  },
  {
   "cell_type": "markdown",
   "metadata": {},
   "source": [
    "__After filtering our dataset by image sizes and ages, we reduced it to ~ 100.000 images__\n",
    "\n",
    "__Next, let's filter for diversity__"
   ]
  },
  {
   "cell_type": "markdown",
   "metadata": {},
   "source": [
    "##### 3) FILTER FOR DIVERSITY"
   ]
  },
  {
   "cell_type": "code",
   "execution_count": 15,
   "metadata": {},
   "outputs": [
    {
     "data": {
      "text/plain": [
       "12181"
      ]
     },
     "execution_count": 15,
     "metadata": {},
     "output_type": "execute_result"
    }
   ],
   "source": [
    "imdb_df_500_age['name'].nunique()"
   ]
  },
  {
   "cell_type": "code",
   "execution_count": 16,
   "metadata": {},
   "outputs": [],
   "source": [
    "imdb_df_500_age_five = imdb_df_500_age.drop_duplicates(['photo_taken','name']).groupby('name').head(5)"
   ]
  },
  {
   "cell_type": "code",
   "execution_count": 17,
   "metadata": {},
   "outputs": [
    {
     "data": {
      "text/plain": [
       "27787"
      ]
     },
     "execution_count": 17,
     "metadata": {},
     "output_type": "execute_result"
    }
   ],
   "source": [
    "len(imdb_df_500_age_five)"
   ]
  },
  {
   "cell_type": "code",
   "execution_count": 18,
   "metadata": {},
   "outputs": [
    {
     "data": {
      "text/plain": [
       "12181"
      ]
     },
     "execution_count": 18,
     "metadata": {},
     "output_type": "execute_result"
    }
   ],
   "source": [
    "imdb_df_500_age_five['name'].nunique()"
   ]
  },
  {
   "cell_type": "markdown",
   "metadata": {},
   "source": [
    "__We end up with 12181 distinct celebrities, GREAT!__"
   ]
  },
  {
   "cell_type": "code",
   "execution_count": 19,
   "metadata": {},
   "outputs": [
    {
     "data": {
      "text/plain": [
       "1.0    16612\n",
       "0.0    11175\n",
       "Name: gender, dtype: int64"
      ]
     },
     "execution_count": 19,
     "metadata": {},
     "output_type": "execute_result"
    }
   ],
   "source": [
    "imdb_df_500_age_five['gender'].value_counts(dropna=False)"
   ]
  },
  {
   "cell_type": "markdown",
   "metadata": {},
   "source": [
    "__After filtering for diversity we reduced our dataset to 27.787 images__"
   ]
  },
  {
   "cell_type": "markdown",
   "metadata": {},
   "source": [
    "##### 4) PERFORM STRATIFIED SAMPLING"
   ]
  },
  {
   "cell_type": "code",
   "execution_count": 20,
   "metadata": {},
   "outputs": [],
   "source": [
    "def stratified_sample_df(df, col, n_samples):\n",
    "    n = min(n_samples, df[col].value_counts().min())\n",
    "    df_ = df.groupby(col).apply(lambda x: x.sample(n, random_state=2))\n",
    "    df_.index = df_.index.droplevel(0)\n",
    "    return df_"
   ]
  },
  {
   "cell_type": "code",
   "execution_count": 21,
   "metadata": {},
   "outputs": [],
   "source": [
    "imdb_df_500_age_five_strat = stratified_sample_df(imdb_df_500_age_five, 'gender', 10000)"
   ]
  },
  {
   "cell_type": "code",
   "execution_count": 22,
   "metadata": {},
   "outputs": [
    {
     "name": "stdout",
     "output_type": "stream",
     "text": [
      "20000\n"
     ]
    },
    {
     "data": {
      "text/plain": [
       "1.0    50.0\n",
       "0.0    50.0\n",
       "Name: gender, dtype: float64"
      ]
     },
     "execution_count": 22,
     "metadata": {},
     "output_type": "execute_result"
    }
   ],
   "source": [
    "print(len(imdb_df_500_age_five_strat))\n",
    "imdb_df_500_age_five_strat['gender'].value_counts(normalize=True)*100"
   ]
  },
  {
   "cell_type": "markdown",
   "metadata": {},
   "source": [
    "__Our final sample contains 20000 images, this is largely enough for training.__\n",
    "\n",
    "### Let's Save this final DataFrame to a CSV File"
   ]
  },
  {
   "cell_type": "code",
   "execution_count": 23,
   "metadata": {},
   "outputs": [],
   "source": [
    "sample_output_path = '/home/jupyter/imdb-face-data/imdb_crop/meta-imdb-sample.csv'\n",
    "\n",
    "imdb_df_500_age_five_strat.to_csv(sample_output_path, index=False, encoding='utf-8')"
   ]
  },
  {
   "cell_type": "code",
   "execution_count": 24,
   "metadata": {},
   "outputs": [],
   "source": [
    "del imdb_df_500_age_five_strat"
   ]
  },
  {
   "cell_type": "code",
   "execution_count": 25,
   "metadata": {},
   "outputs": [],
   "source": [
    "sample_df = pd.read_csv(sample_output_path)"
   ]
  },
  {
   "cell_type": "markdown",
   "metadata": {},
   "source": [
    "### Distribution of Ages of our sample"
   ]
  },
  {
   "cell_type": "code",
   "execution_count": 26,
   "metadata": {},
   "outputs": [
    {
     "data": {
      "text/plain": [
       "array([[<matplotlib.axes._subplots.AxesSubplot object at 0x7fdf3d0aa518>]], dtype=object)"
      ]
     },
     "execution_count": 26,
     "metadata": {},
     "output_type": "execute_result"
    },
    {
     "data": {
      "image/png": "[encoded data removed]",
      "text/plain": [
       "<Figure size 432x288 with 1 Axes>"
      ]
     },
     "metadata": {
      "needs_background": "light"
     },
     "output_type": "display_data"
    }
   ],
   "source": [
    "sample_df.hist(column=['age'], bins=8)"
   ]
  },
  {
   "cell_type": "markdown",
   "metadata": {},
   "source": [
    "### Distribution of Gender"
   ]
  },
  {
   "cell_type": "code",
   "execution_count": 27,
   "metadata": {},
   "outputs": [
    {
     "data": {
      "text/plain": [
       "array([[<matplotlib.axes._subplots.AxesSubplot object at 0x7fdf51d10f28>]], dtype=object)"
      ]
     },
     "execution_count": 27,
     "metadata": {},
     "output_type": "execute_result"
    },
    {
     "data": {
      "image/png": "[encoded data removed]",
      "text/plain": [
       "<Figure size 432x288 with 1 Axes>"
      ]
     },
     "metadata": {
      "needs_background": "light"
     },
     "output_type": "display_data"
    }
   ],
   "source": [
    "sample_df.hist(column=['gender'], bins=3)"
   ]
  },
  {
   "cell_type": "markdown",
   "metadata": {},
   "source": [
    "## Add Parent Paths and Image paths to the Dataframe"
   ]
  },
  {
   "cell_type": "code",
   "execution_count": 28,
   "metadata": {},
   "outputs": [],
   "source": [
    "DATA_PATH = Path(\"/home/jupyter/imdb-face-data\")\n",
    "DATASET_PATH = DATA_PATH / \"imdb_crop\""
   ]
  },
  {
   "cell_type": "code",
   "execution_count": 29,
   "metadata": {},
   "outputs": [
    {
     "data": {
      "text/html": [
       "<div>\n",
       "<style scoped>\n",
       "    .dataframe tbody tr th:only-of-type {\n",
       "        vertical-align: middle;\n",
       "    }\n",
       "\n",
       "    .dataframe tbody tr th {\n",
       "        vertical-align: top;\n",
       "    }\n",
       "\n",
       "    .dataframe thead th {\n",
       "        text-align: right;\n",
       "    }\n",
       "</style>\n",
       "<table border=\"1\" class=\"dataframe\">\n",
       "  <thead>\n",
       "    <tr style=\"text-align: right;\">\n",
       "      <th></th>\n",
       "      <th>img_path</th>\n",
       "      <th>photo_taken</th>\n",
       "      <th>name</th>\n",
       "      <th>date_of_birth</th>\n",
       "      <th>age</th>\n",
       "      <th>gender</th>\n",
       "      <th>size (W,H)</th>\n",
       "    </tr>\n",
       "  </thead>\n",
       "  <tbody>\n",
       "    <tr>\n",
       "      <th>0</th>\n",
       "      <td>/home/jupyter/imdb-face-data/imdb_crop/31/nm00...</td>\n",
       "      <td>2006</td>\n",
       "      <td>Jane Curtin</td>\n",
       "      <td>1947</td>\n",
       "      <td>59</td>\n",
       "      <td>0.0</td>\n",
       "      <td>(500, 500)</td>\n",
       "    </tr>\n",
       "    <tr>\n",
       "      <th>1</th>\n",
       "      <td>/home/jupyter/imdb-face-data/imdb_crop/61/nm11...</td>\n",
       "      <td>2009</td>\n",
       "      <td>Allisyn Ashley Arm</td>\n",
       "      <td>1996</td>\n",
       "      <td>13</td>\n",
       "      <td>0.0</td>\n",
       "      <td>(500, 500)</td>\n",
       "    </tr>\n",
       "    <tr>\n",
       "      <th>2</th>\n",
       "      <td>/home/jupyter/imdb-face-data/imdb_crop/59/nm17...</td>\n",
       "      <td>2010</td>\n",
       "      <td>Kaitlyn Dever</td>\n",
       "      <td>1996</td>\n",
       "      <td>14</td>\n",
       "      <td>0.0</td>\n",
       "      <td>(500, 500)</td>\n",
       "    </tr>\n",
       "    <tr>\n",
       "      <th>3</th>\n",
       "      <td>/home/jupyter/imdb-face-data/imdb_crop/88/nm00...</td>\n",
       "      <td>2013</td>\n",
       "      <td>Louise Monot</td>\n",
       "      <td>1981</td>\n",
       "      <td>32</td>\n",
       "      <td>0.0</td>\n",
       "      <td>(500, 500)</td>\n",
       "    </tr>\n",
       "    <tr>\n",
       "      <th>4</th>\n",
       "      <td>/home/jupyter/imdb-face-data/imdb_crop/70/nm07...</td>\n",
       "      <td>2009</td>\n",
       "      <td>Carly Rae Jepsen</td>\n",
       "      <td>1985</td>\n",
       "      <td>24</td>\n",
       "      <td>0.0</td>\n",
       "      <td>(500, 500)</td>\n",
       "    </tr>\n",
       "  </tbody>\n",
       "</table>\n",
       "</div>"
      ],
      "text/plain": [
       "                                            img_path  photo_taken  \\\n",
       "0  /home/jupyter/imdb-face-data/imdb_crop/31/nm00...         2006   \n",
       "1  /home/jupyter/imdb-face-data/imdb_crop/61/nm11...         2009   \n",
       "2  /home/jupyter/imdb-face-data/imdb_crop/59/nm17...         2010   \n",
       "3  /home/jupyter/imdb-face-data/imdb_crop/88/nm00...         2013   \n",
       "4  /home/jupyter/imdb-face-data/imdb_crop/70/nm07...         2009   \n",
       "\n",
       "                 name  date_of_birth  age  gender  size (W,H)  \n",
       "0         Jane Curtin           1947   59     0.0  (500, 500)  \n",
       "1  Allisyn Ashley Arm           1996   13     0.0  (500, 500)  \n",
       "2       Kaitlyn Dever           1996   14     0.0  (500, 500)  \n",
       "3        Louise Monot           1981   32     0.0  (500, 500)  \n",
       "4    Carly Rae Jepsen           1985   24     0.0  (500, 500)  "
      ]
     },
     "execution_count": 29,
     "metadata": {},
     "output_type": "execute_result"
    }
   ],
   "source": [
    "sample_csv_path = '/home/jupyter/imdb-face-data/imdb_crop/meta-imdb-sample.csv'\n",
    "sample_df = pd.read_csv(sample_csv_path)\n",
    "sample_df.head()"
   ]
  },
  {
   "cell_type": "code",
   "execution_count": 30,
   "metadata": {},
   "outputs": [],
   "source": [
    "sample_df['img_path'] = sample_df['img_path'].apply(lambda x: Path(x))\n",
    "sample_df.rename(columns={'img_path' : 'absolute_path'}, inplace=True)\n",
    "sample_df['parent_path'] = sample_df['absolute_path'].apply(lambda x: x.relative_to(DATASET_PATH))\n",
    "sample_df['img_path'] = sample_df['absolute_path'].apply(lambda x: x.relative_to(x.parent))"
   ]
  },
  {
   "cell_type": "code",
   "execution_count": 31,
   "metadata": {},
   "outputs": [
    {
     "data": {
      "text/html": [
       "<div>\n",
       "<style scoped>\n",
       "    .dataframe tbody tr th:only-of-type {\n",
       "        vertical-align: middle;\n",
       "    }\n",
       "\n",
       "    .dataframe tbody tr th {\n",
       "        vertical-align: top;\n",
       "    }\n",
       "\n",
       "    .dataframe thead th {\n",
       "        text-align: right;\n",
       "    }\n",
       "</style>\n",
       "<table border=\"1\" class=\"dataframe\">\n",
       "  <thead>\n",
       "    <tr style=\"text-align: right;\">\n",
       "      <th></th>\n",
       "      <th>absolute_path</th>\n",
       "      <th>photo_taken</th>\n",
       "      <th>name</th>\n",
       "      <th>date_of_birth</th>\n",
       "      <th>age</th>\n",
       "      <th>gender</th>\n",
       "      <th>size (W,H)</th>\n",
       "      <th>parent_path</th>\n",
       "      <th>img_path</th>\n",
       "    </tr>\n",
       "  </thead>\n",
       "  <tbody>\n",
       "    <tr>\n",
       "      <th>0</th>\n",
       "      <td>/home/jupyter/imdb-face-data/imdb_crop/31/nm00...</td>\n",
       "      <td>2006</td>\n",
       "      <td>Jane Curtin</td>\n",
       "      <td>1947</td>\n",
       "      <td>59</td>\n",
       "      <td>0.0</td>\n",
       "      <td>(500, 500)</td>\n",
       "      <td>31/nm0005531_rm2671491328_1969-8-17_2011.jpg</td>\n",
       "      <td>nm0005531_rm2671491328_1969-8-17_2011.jpg</td>\n",
       "    </tr>\n",
       "    <tr>\n",
       "      <th>1</th>\n",
       "      <td>/home/jupyter/imdb-face-data/imdb_crop/61/nm11...</td>\n",
       "      <td>2009</td>\n",
       "      <td>Allisyn Ashley Arm</td>\n",
       "      <td>1996</td>\n",
       "      <td>13</td>\n",
       "      <td>0.0</td>\n",
       "      <td>(500, 500)</td>\n",
       "      <td>61/nm1143861_rm3018241536_1971-12-14_2012.jpg</td>\n",
       "      <td>nm1143861_rm3018241536_1971-12-14_2012.jpg</td>\n",
       "    </tr>\n",
       "    <tr>\n",
       "      <th>2</th>\n",
       "      <td>/home/jupyter/imdb-face-data/imdb_crop/59/nm17...</td>\n",
       "      <td>2010</td>\n",
       "      <td>Kaitlyn Dever</td>\n",
       "      <td>1996</td>\n",
       "      <td>14</td>\n",
       "      <td>0.0</td>\n",
       "      <td>(500, 500)</td>\n",
       "      <td>59/nm1754059_rm3515611136_1982-2-11_2014.jpg</td>\n",
       "      <td>nm1754059_rm3515611136_1982-2-11_2014.jpg</td>\n",
       "    </tr>\n",
       "    <tr>\n",
       "      <th>3</th>\n",
       "      <td>/home/jupyter/imdb-face-data/imdb_crop/88/nm00...</td>\n",
       "      <td>2013</td>\n",
       "      <td>Louise Monot</td>\n",
       "      <td>1981</td>\n",
       "      <td>32</td>\n",
       "      <td>0.0</td>\n",
       "      <td>(500, 500)</td>\n",
       "      <td>88/nm0004988_rm2340738560_1977-11-24_2014.jpg</td>\n",
       "      <td>nm0004988_rm2340738560_1977-11-24_2014.jpg</td>\n",
       "    </tr>\n",
       "    <tr>\n",
       "      <th>4</th>\n",
       "      <td>/home/jupyter/imdb-face-data/imdb_crop/70/nm07...</td>\n",
       "      <td>2009</td>\n",
       "      <td>Carly Rae Jepsen</td>\n",
       "      <td>1985</td>\n",
       "      <td>24</td>\n",
       "      <td>0.0</td>\n",
       "      <td>(500, 500)</td>\n",
       "      <td>70/nm0704270_rm1023781120_1977-6-2_2012.jpg</td>\n",
       "      <td>nm0704270_rm1023781120_1977-6-2_2012.jpg</td>\n",
       "    </tr>\n",
       "  </tbody>\n",
       "</table>\n",
       "</div>"
      ],
      "text/plain": [
       "                                       absolute_path  photo_taken  \\\n",
       "0  /home/jupyter/imdb-face-data/imdb_crop/31/nm00...         2006   \n",
       "1  /home/jupyter/imdb-face-data/imdb_crop/61/nm11...         2009   \n",
       "2  /home/jupyter/imdb-face-data/imdb_crop/59/nm17...         2010   \n",
       "3  /home/jupyter/imdb-face-data/imdb_crop/88/nm00...         2013   \n",
       "4  /home/jupyter/imdb-face-data/imdb_crop/70/nm07...         2009   \n",
       "\n",
       "                 name  date_of_birth  age  gender  size (W,H)  \\\n",
       "0         Jane Curtin           1947   59     0.0  (500, 500)   \n",
       "1  Allisyn Ashley Arm           1996   13     0.0  (500, 500)   \n",
       "2       Kaitlyn Dever           1996   14     0.0  (500, 500)   \n",
       "3        Louise Monot           1981   32     0.0  (500, 500)   \n",
       "4    Carly Rae Jepsen           1985   24     0.0  (500, 500)   \n",
       "\n",
       "                                     parent_path  \\\n",
       "0   31/nm0005531_rm2671491328_1969-8-17_2011.jpg   \n",
       "1  61/nm1143861_rm3018241536_1971-12-14_2012.jpg   \n",
       "2   59/nm1754059_rm3515611136_1982-2-11_2014.jpg   \n",
       "3  88/nm0004988_rm2340738560_1977-11-24_2014.jpg   \n",
       "4    70/nm0704270_rm1023781120_1977-6-2_2012.jpg   \n",
       "\n",
       "                                     img_path  \n",
       "0   nm0005531_rm2671491328_1969-8-17_2011.jpg  \n",
       "1  nm1143861_rm3018241536_1971-12-14_2012.jpg  \n",
       "2   nm1754059_rm3515611136_1982-2-11_2014.jpg  \n",
       "3  nm0004988_rm2340738560_1977-11-24_2014.jpg  \n",
       "4    nm0704270_rm1023781120_1977-6-2_2012.jpg  "
      ]
     },
     "execution_count": 31,
     "metadata": {},
     "output_type": "execute_result"
    }
   ],
   "source": [
    "sample_df.head()"
   ]
  },
  {
   "cell_type": "markdown",
   "metadata": {},
   "source": [
    "#### Save the Sample CSV File with those new infos"
   ]
  },
  {
   "cell_type": "code",
   "execution_count": 32,
   "metadata": {},
   "outputs": [],
   "source": [
    "sample_df.to_csv('/home/jupyter/imdb-face-data/imdb_crop/imdb-sample-metafull.csv',index=False, encoding='utf-8')"
   ]
  },
  {
   "cell_type": "markdown",
   "metadata": {},
   "source": [
    "### CREATE A SAMPLE DATA FOLDER (copy images from our sample csv)"
   ]
  },
  {
   "cell_type": "code",
   "execution_count": 3,
   "metadata": {},
   "outputs": [],
   "source": [
    "SAMPLE_DATA_PATH = '/home/jupyter/imdb-face-data/imdb_crop/sample-imdb'"
   ]
  },
  {
   "cell_type": "code",
   "execution_count": 41,
   "metadata": {},
   "outputs": [],
   "source": [
    "import shutil\n",
    "import os.path\n",
    "\n",
    "def create_sample_data_folder(source, dest):\n",
    "    os.mkdir(dest)\n",
    "    for path in source:\n",
    "        try:\n",
    "            shutil.copy2(str(path), dest)\n",
    "        except:\n",
    "            print(path)"
   ]
  },
  {
   "cell_type": "code",
   "execution_count": 42,
   "metadata": {},
   "outputs": [],
   "source": [
    "#create_sample_data_folder(sample_df['absolute_path'], SAMPLE_DATA_PATH)"
   ]
  },
  {
   "cell_type": "markdown",
   "metadata": {},
   "source": [
    "### Verify Images in our Sample"
   ]
  },
  {
   "cell_type": "code",
   "execution_count": 4,
   "metadata": {},
   "outputs": [],
   "source": [
    "verify_images(SAMPLE_DATA_PATH)"
   ]
  },
  {
   "cell_type": "code",
   "execution_count": null,
   "metadata": {},
   "outputs": [],
   "source": []
  }
 ],
 "metadata": {
  "kernelspec": {
   "display_name": "Python 3",
   "language": "python",
   "name": "python3"
  },
  "language_info": {
   "codemirror_mode": {
    "name": "ipython",
    "version": 3
   },
   "file_extension": ".py",
   "mimetype": "text/x-python",
   "name": "python",
   "nbconvert_exporter": "python",
   "pygments_lexer": "ipython3",
   "version": "3.7.3"
  }
 },
 "nbformat": 4,
 "nbformat_minor": 2
}
