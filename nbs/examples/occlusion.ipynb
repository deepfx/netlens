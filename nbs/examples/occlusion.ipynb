{
 "cells": [
  {
   "cell_type": "code",
   "execution_count": 1,
   "metadata": {},
   "outputs": [],
   "source": [
    "import matplotlib.pyplot as plt\n",
    "import seaborn as sns\n",
    "from torchvision import models\n",
    "\n",
    "from netlens.data import get_example_data, IMAGENET_LABELS\n",
    "from netlens.image_proc import *\n",
    "from netlens.occlusion import *\n"
   ]
  },
  {
   "cell_type": "code",
   "execution_count": null,
   "metadata": {},
   "outputs": [
    {
     "name": "stdout",
     "output_type": "stream",
     "text": [
      "== EXAMPLE: OCCLUSION, image pelican.jpg, class 144 ==\n"
     ]
    },
    {
     "name": "stderr",
     "output_type": "stream",
     "text": [
      "Downloading: \"https://download.pytorch.org/models/vgg19_bn-c79401a0.pth\" to /home/markus/.cache/torch/checkpoints/vgg19_bn-c79401a0.pth\n",
      " 79%|███████▉  | 432M/548M [01:25<00:20, 6.06MB/s] "
     ]
    }
   ],
   "source": [
    "original_img, name, target_class = get_example_data(3, img_path='../../images/examples/')\n",
    "print(f'== EXAMPLE: OCCLUSION, image {name}, class {target_class} ==')\n",
    "\n",
    "prep_img = preprocess_image(original_img)\n",
    "\n",
    "m_orig = models.vgg19_bn(pretrained=True)\n",
    "m_orig.eval()\n",
    "\n",
    "hm, cm, hm_scaled = generate_occlusion_heatmap(m_orig, prep_img, target_class, verbose=True)\n",
    "prob_no_occ = torch.max(hm)\n",
    "\n",
    "_, axes = plt.subplots(1, 3, figsize=(15, 8))\n",
    "\n",
    "sns.heatmap(hm, xticklabels=False, yticklabels=False, vmax=prob_no_occ, ax=axes[0])\n",
    "axes[0].set_title('Occlusion heatmap (change in class prob)')\n",
    "sns.heatmap(cm, xticklabels=False, yticklabels=False, cmap=\"PiYG\", ax=axes[1])\n",
    "axes[1].set_title('Predicted class vs. occlusion window')\n",
    "axes[2].imshow(original_img)\n",
    "axes[2].imshow(hm_scaled, alpha=0.50)\n",
    "axes[2].set_title('Original image')\n",
    "plt.show()\n",
    "\n",
    "det_classes, det_counts = torch.unique(cm, return_counts=True)\n",
    "\n",
    "print('DETECTED CLASSES')\n",
    "print('\\n'.join(f'{int(cl)}\\t{cnt}\\t{IMAGENET_LABELS[cl]}' for cl, cnt in zip(det_classes.tolist(), det_counts.tolist())))"
   ]
  },
  {
   "cell_type": "code",
   "execution_count": null,
   "metadata": {},
   "outputs": [],
   "source": []
  }
 ],
 "metadata": {
  "kernelspec": {
   "display_name": "Python 3",
   "language": "python",
   "name": "python3"
  },
  "language_info": {
   "codemirror_mode": {
    "name": "ipython",
    "version": 3
   },
   "file_extension": ".py",
   "mimetype": "text/x-python",
   "name": "python",
   "nbconvert_exporter": "python",
   "pygments_lexer": "ipython3",
   "version": "3.7.5rc1"
  }
 },
 "nbformat": 4,
 "nbformat_minor": 2
}
